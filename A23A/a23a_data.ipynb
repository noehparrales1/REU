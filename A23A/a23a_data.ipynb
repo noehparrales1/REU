{
 "cells": [
  {
   "cell_type": "code",
   "execution_count": 2,
   "id": "1f80bee8",
   "metadata": {},
   "outputs": [],
   "source": [
    "import pandas as pd\n",
    "import numpy as np\n",
    "import matplotlib.pyplot as plt\n",
    "import seaborn as sns\n",
    "import plotly.express as px\n",
    "import geopandas as gpd\n",
    "import os\n",
    "import glob\n",
    "import plotly.graph_objects as go\n",
    "from scipy.stats import ttest_rel, ttest_ind, mannwhitneyu\n",
    "\n",
    "\n"
   ]
  },
  {
   "cell_type": "code",
   "execution_count": 3,
   "id": "f6197784",
   "metadata": {},
   "outputs": [
    {
     "name": "stderr",
     "output_type": "stream",
     "text": [
      "C:\\Users\\Noeh\\AppData\\Local\\Temp\\ipykernel_23264\\1246303162.py:19: DeprecationWarning:\n",
      "\n",
      "*scatter_mapbox* is deprecated! Use *scatter_map* instead. Learn more at: https://plotly.com/python/mapbox-to-maplibre/\n",
      "\n",
      "C:\\Users\\Noeh\\AppData\\Local\\Temp\\ipykernel_23264\\1246303162.py:31: DeprecationWarning:\n",
      "\n",
      "*scattermapbox* is deprecated! Use *scattermap* instead. Learn more at: https://plotly.com/python/mapbox-to-maplibre/\n",
      "\n"
     ]
    },
    {
     "data": {
      "application/vnd.plotly.v1+json": {
       "config": {
        "plotlyServerURL": "https://plot.ly"
       },
       "data": [
        {
         "customdata": [
          [
           "2023-01-06"
          ]
         ],
         "hovertemplate": "Last Update=%{customdata[0]}<br>Size=%{marker.size}<br>Latitude=%{lat}<br>Longitude=%{lon}<extra></extra>",
         "lat": {
          "bdata": "AAAAAAAQUsA=",
          "dtype": "f8"
         },
         "legendgroup": "",
         "lon": {
          "bdata": "j8L1KFxPR8A=",
          "dtype": "f8"
         },
         "marker": {
          "color": "#636efa",
          "size": {
           "bdata": "BA==",
           "dtype": "i1"
          },
          "sizemode": "area",
          "sizeref": 0.0625
         },
         "mode": "markers",
         "name": "",
         "showlegend": false,
         "subplot": "mapbox",
         "type": "scattermapbox"
        },
        {
         "hoverinfo": "none",
         "lat": {
          "bdata": "AAAAAAAQUsCamZmZmQlSwIXrUbgeBVLAw/UoXI8CUsDD9ShcjwJSwHE9CtejAFLAAAAAAAAAUsCuR+F6FP5RwHsUrkfh+lHACtejcD36UcB7FK5H4fpRwClcj8L1+FHAuB6F61H4UcAUrkfhevRRwHE9Ctej8FHA7FG4HoXrUcDD9Shcj+JRwGZmZmZm1lHA4XoUrkfBUcAUrkfherRRwHE9CtejsFHAAAAAAACgUcDNzMzMzIxRwFyPwvUoXFHAAAAAAACgUcBI4XoUrkdRwIXrUbgeFVHAH4XrUbgOUcCkcD0K1/NQwKRwPQrX81DApHA9CtfzUMAAAAAAAKBRwBSuR+F6pFDAAAAAAACQUMAAAAAAAIBQwAAAAAAAgFDArkfhehRuUMA9CtejcF1QwIXrUbgeRVDAKVyPwvUoUMAfhetRuA5QwBSuR+F6BFDAAAAAAAAAUMCkcD0K1+NPwArXo3A9yk/A7FG4HoWrT8BxPQrXo5BPwHsUrkfhek/AKVyPwvVoT8BSuB6F6zFPwNejcD0KF0/Aw/UoXI8CT8DsUbgehetOwPYoXI/CtU7AmpmZmZmZTsBmZmZmZoZOwM3MzMzMbE7ASOF6FK5nTsCPwvUoXG9OwGZmZmZmZk7AexSuR+FaTsBI4XoUrkdOwIXrUbgeJU7AZmZmZmYGTsBI4XoUrkdOwDMzMzMz003AUrgehetxTcDNzMzMzIxNwEjhehSup03ACtejcD2KTcCkcD0K14NNwOxRuB6Fi03APQrXo3B9TcCuR+F6FG5NwBSuR+F6dE3A4XoUrkdhTcDhehSuR2FNwOF6FK5HYU3A4XoUrkdhTcDhehSuR2FNwIXrUbgeRU3ACtejcD1KTcA9CtejcF1NwD0K16NwXU3AMzMzMzNTTcD2KFyPwlVNwFyPwvUoXE3ApHA9CtdDTcCPwvUoXE9NwK5H4XoULk3APQrXo3A9TcAK16NwPSpNwGZmZmZmRk3ApHA9CtdjTcB7FK5H4ZpNwMP1KFyPok3AFK5H4XqUTcBcj8L1KHxNwGZmZmZmZk3AUrgehetRTcBI4XoUridNwDMzMzMz00zAj8L1KFyvTMCPwvUoXK9MwLgehetRuEzAH4XrUbjeTMB7FK5H4bpMwDMzMzMzk0zAcT0K16NwTMCF61G4HmVMwPYoXI/CVUzAmpmZmZk5TMAzMzMzM9NLwKRwPQrXY0vASOF6FK5nS8BI4XoUrmdLwEjhehSuZ0vASOF6FK5nS8BI4XoUrmdLwEjhehSuZ0vAZmZmZmZmS8BmZmZmZmZLwGZmZmZmZkvAZmZmZmZmS8BmZmZmZmZLwGZmZmZmZkvAZmZmZmZmS8BSuB6F67FLwK5H4XoULkzAH4XrUbheTMA=",
          "dtype": "f8"
         },
         "line": {
          "color": "blue",
          "width": 2
         },
         "lon": {
          "bdata": "j8L1KFxPR8Bcj8L1KHxHwLgehetRmEfAw/UoXI+iR8CamZmZmblHwFyPwvUo3EfASOF6FK4HSMDhehSuR0FIwKRwPQrXY0jApHA9CteDSMCF61G4HqVIwDMzMzMz00jACtejcD0KScBmZmZmZkZJwClcj8L1qEnAMzMzMzPzScDD9ShcjwJKwMP1KFyPYkrAcT0K16MQS8AzMzMzMzNLwAAAAAAAQEvAZmZmZmaGS8ApXI/C9chLwClcj8L1CEzAZmZmZmaGS8BI4XoUrgdMwJqZmZmZ+UvA16NwPQrXS8BmZmZmZsZLwGZmZmZmxkvAZmZmZmbGS8BmZmZmZoZLwGZmZmZmhkvAexSuR+E6S8AAAAAAAABLwAAAAAAAAEvAPQrXo3C9SsBxPQrXo9BKwJqZmZmZ2UrAexSuR+H6SsD2KFyPwtVKwK5H4XoUjkrAAAAAAABgSsCkcD0K1wNKwEjhehSu50nA16NwPQrXScD2KFyPwtVJwFK4HoXr8UnAuB6F61E4SsBmZmZmZoZKwBSuR+F6dErAPQrXo3AdSsAfhetRuN5JwK5H4XoUbknA4XoUrkdBScDD9ShcjyJJwJqZmZmZOUnASOF6FK5nScAAAAAAAIBJwFK4HoXr0UnA7FG4HoXLScBcj8L1KJxJwKRwPQrXI0nA16NwPQq3SMBcj8L1KJxJwI/C9Shcr0bAhetRuB5lRsBxPQrXo5BGwMP1KFyPYkbA4XoUrkdhRsCkcD0K12NGwDMzMzMzk0bAcT0K16OQRsBI4XoUrsdGwK5H4XoUzkbAMzMzMzPTRsAzMzMzM9NGwDMzMzMz00bAMzMzMzPTRsAzMzMzM9NGwK5H4XoUbkfAFK5H4XpUR8DXo3A9CldHwFyPwvUoHEfAexSuR+EaR8BmZmZmZiZHwIXrUbgeBUfAH4XrUbj+RsCuR+F6FO5GwHE9Ctej0EbAexSuR+G6RsDD9Shcj8JGwB+F61G4/kbA4XoUrkfhRsCuR+F6FM5GwBSuR+F6dEbAAAAAAABARsAK16NwPSpGwB+F61G4HkbAhetRuB4FRsBI4XoUrudFwClcj8L1qEXAj8L1KFwPRcB7FK5H4TpEwOF6FK5HIUTASOF6FK7HQ8BxPQrXo1BDwAAAAAAAQEPA7FG4HoWrQ8BI4XoUridEwPYoXI/CdUTA9ihcj8J1RMBxPQrXozBEwHE9CtejkEPA7FG4HoWLQ8DsUbgehYtDwClcj8L1iEPAKVyPwvWIQ8AK16NwPYpDwArXo3A9ikPAZmZmZmaGQ8BmZmZmZoZDwGZmZmZmhkPAZmZmZmaGQ8BmZmZmZoZDwGZmZmZmhkPAZmZmZmaGQ8DD9Shcj+JCwMP1KFyPQkLAmpmZmZmZQcA=",
          "dtype": "f8"
         },
         "mode": "lines",
         "name": "Trajectory Line",
         "type": "scattermapbox"
        }
       ],
       "frames": [
        {
         "data": [
          {
           "customdata": [
            [
             "2023-01-06"
            ]
           ],
           "hovertemplate": "Last Update=%{customdata[0]}<br>Size=%{marker.size}<br>Latitude=%{lat}<br>Longitude=%{lon}<extra></extra>",
           "lat": {
            "bdata": "AAAAAAAQUsA=",
            "dtype": "f8"
           },
           "legendgroup": "",
           "lon": {
            "bdata": "j8L1KFxPR8A=",
            "dtype": "f8"
           },
           "marker": {
            "color": "#636efa",
            "size": {
             "bdata": "BA==",
             "dtype": "i1"
            },
            "sizemode": "area",
            "sizeref": 0.0625
           },
           "mode": "markers",
           "name": "",
           "showlegend": false,
           "subplot": "mapbox",
           "type": "scattermapbox"
          }
         ],
         "name": "2023-01-06"
        },
        {
         "data": [
          {
           "customdata": [
            [
             "2023-01-13"
            ]
           ],
           "hovertemplate": "Last Update=%{customdata[0]}<br>Size=%{marker.size}<br>Latitude=%{lat}<br>Longitude=%{lon}<extra></extra>",
           "lat": {
            "bdata": "mpmZmZkJUsA=",
            "dtype": "f8"
           },
           "legendgroup": "",
           "lon": {
            "bdata": "XI/C9Sh8R8A=",
            "dtype": "f8"
           },
           "marker": {
            "color": "#636efa",
            "size": {
             "bdata": "BA==",
             "dtype": "i1"
            },
            "sizemode": "area",
            "sizeref": 0.0625
           },
           "mode": "markers",
           "name": "",
           "showlegend": false,
           "subplot": "mapbox",
           "type": "scattermapbox"
          }
         ],
         "name": "2023-01-13"
        },
        {
         "data": [
          {
           "customdata": [
            [
             "2023-01-20"
            ]
           ],
           "hovertemplate": "Last Update=%{customdata[0]}<br>Size=%{marker.size}<br>Latitude=%{lat}<br>Longitude=%{lon}<extra></extra>",
           "lat": {
            "bdata": "hetRuB4FUsA=",
            "dtype": "f8"
           },
           "legendgroup": "",
           "lon": {
            "bdata": "uB6F61GYR8A=",
            "dtype": "f8"
           },
           "marker": {
            "color": "#636efa",
            "size": {
             "bdata": "BA==",
             "dtype": "i1"
            },
            "sizemode": "area",
            "sizeref": 0.0625
           },
           "mode": "markers",
           "name": "",
           "showlegend": false,
           "subplot": "mapbox",
           "type": "scattermapbox"
          }
         ],
         "name": "2023-01-20"
        },
        {
         "data": [
          {
           "customdata": [
            [
             "2023-01-27"
            ]
           ],
           "hovertemplate": "Last Update=%{customdata[0]}<br>Size=%{marker.size}<br>Latitude=%{lat}<br>Longitude=%{lon}<extra></extra>",
           "lat": {
            "bdata": "w/UoXI8CUsA=",
            "dtype": "f8"
           },
           "legendgroup": "",
           "lon": {
            "bdata": "w/UoXI+iR8A=",
            "dtype": "f8"
           },
           "marker": {
            "color": "#636efa",
            "size": {
             "bdata": "BA==",
             "dtype": "i1"
            },
            "sizemode": "area",
            "sizeref": 0.0625
           },
           "mode": "markers",
           "name": "",
           "showlegend": false,
           "subplot": "mapbox",
           "type": "scattermapbox"
          }
         ],
         "name": "2023-01-27"
        },
        {
         "data": [
          {
           "customdata": [
            [
             "2023-02-03"
            ]
           ],
           "hovertemplate": "Last Update=%{customdata[0]}<br>Size=%{marker.size}<br>Latitude=%{lat}<br>Longitude=%{lon}<extra></extra>",
           "lat": {
            "bdata": "w/UoXI8CUsA=",
            "dtype": "f8"
           },
           "legendgroup": "",
           "lon": {
            "bdata": "mpmZmZm5R8A=",
            "dtype": "f8"
           },
           "marker": {
            "color": "#636efa",
            "size": {
             "bdata": "BA==",
             "dtype": "i1"
            },
            "sizemode": "area",
            "sizeref": 0.0625
           },
           "mode": "markers",
           "name": "",
           "showlegend": false,
           "subplot": "mapbox",
           "type": "scattermapbox"
          }
         ],
         "name": "2023-02-03"
        },
        {
         "data": [
          {
           "customdata": [
            [
             "2023-02-10"
            ]
           ],
           "hovertemplate": "Last Update=%{customdata[0]}<br>Size=%{marker.size}<br>Latitude=%{lat}<br>Longitude=%{lon}<extra></extra>",
           "lat": {
            "bdata": "cT0K16MAUsA=",
            "dtype": "f8"
           },
           "legendgroup": "",
           "lon": {
            "bdata": "XI/C9SjcR8A=",
            "dtype": "f8"
           },
           "marker": {
            "color": "#636efa",
            "size": {
             "bdata": "BA==",
             "dtype": "i1"
            },
            "sizemode": "area",
            "sizeref": 0.0625
           },
           "mode": "markers",
           "name": "",
           "showlegend": false,
           "subplot": "mapbox",
           "type": "scattermapbox"
          }
         ],
         "name": "2023-02-10"
        },
        {
         "data": [
          {
           "customdata": [
            [
             "2023-02-17"
            ]
           ],
           "hovertemplate": "Last Update=%{customdata[0]}<br>Size=%{marker.size}<br>Latitude=%{lat}<br>Longitude=%{lon}<extra></extra>",
           "lat": {
            "bdata": "AAAAAAAAUsA=",
            "dtype": "f8"
           },
           "legendgroup": "",
           "lon": {
            "bdata": "SOF6FK4HSMA=",
            "dtype": "f8"
           },
           "marker": {
            "color": "#636efa",
            "size": {
             "bdata": "BA==",
             "dtype": "i1"
            },
            "sizemode": "area",
            "sizeref": 0.0625
           },
           "mode": "markers",
           "name": "",
           "showlegend": false,
           "subplot": "mapbox",
           "type": "scattermapbox"
          }
         ],
         "name": "2023-02-17"
        },
        {
         "data": [
          {
           "customdata": [
            [
             "2023-02-24"
            ]
           ],
           "hovertemplate": "Last Update=%{customdata[0]}<br>Size=%{marker.size}<br>Latitude=%{lat}<br>Longitude=%{lon}<extra></extra>",
           "lat": {
            "bdata": "rkfhehT+UcA=",
            "dtype": "f8"
           },
           "legendgroup": "",
           "lon": {
            "bdata": "4XoUrkdBSMA=",
            "dtype": "f8"
           },
           "marker": {
            "color": "#636efa",
            "size": {
             "bdata": "BA==",
             "dtype": "i1"
            },
            "sizemode": "area",
            "sizeref": 0.0625
           },
           "mode": "markers",
           "name": "",
           "showlegend": false,
           "subplot": "mapbox",
           "type": "scattermapbox"
          }
         ],
         "name": "2023-02-24"
        },
        {
         "data": [
          {
           "customdata": [
            [
             "2023-03-03"
            ]
           ],
           "hovertemplate": "Last Update=%{customdata[0]}<br>Size=%{marker.size}<br>Latitude=%{lat}<br>Longitude=%{lon}<extra></extra>",
           "lat": {
            "bdata": "exSuR+H6UcA=",
            "dtype": "f8"
           },
           "legendgroup": "",
           "lon": {
            "bdata": "pHA9CtdjSMA=",
            "dtype": "f8"
           },
           "marker": {
            "color": "#636efa",
            "size": {
             "bdata": "BA==",
             "dtype": "i1"
            },
            "sizemode": "area",
            "sizeref": 0.0625
           },
           "mode": "markers",
           "name": "",
           "showlegend": false,
           "subplot": "mapbox",
           "type": "scattermapbox"
          }
         ],
         "name": "2023-03-03"
        },
        {
         "data": [
          {
           "customdata": [
            [
             "2023-03-10"
            ]
           ],
           "hovertemplate": "Last Update=%{customdata[0]}<br>Size=%{marker.size}<br>Latitude=%{lat}<br>Longitude=%{lon}<extra></extra>",
           "lat": {
            "bdata": "CtejcD36UcA=",
            "dtype": "f8"
           },
           "legendgroup": "",
           "lon": {
            "bdata": "pHA9CteDSMA=",
            "dtype": "f8"
           },
           "marker": {
            "color": "#636efa",
            "size": {
             "bdata": "BA==",
             "dtype": "i1"
            },
            "sizemode": "area",
            "sizeref": 0.0625
           },
           "mode": "markers",
           "name": "",
           "showlegend": false,
           "subplot": "mapbox",
           "type": "scattermapbox"
          }
         ],
         "name": "2023-03-10"
        },
        {
         "data": [
          {
           "customdata": [
            [
             "2023-03-17"
            ]
           ],
           "hovertemplate": "Last Update=%{customdata[0]}<br>Size=%{marker.size}<br>Latitude=%{lat}<br>Longitude=%{lon}<extra></extra>",
           "lat": {
            "bdata": "exSuR+H6UcA=",
            "dtype": "f8"
           },
           "legendgroup": "",
           "lon": {
            "bdata": "hetRuB6lSMA=",
            "dtype": "f8"
           },
           "marker": {
            "color": "#636efa",
            "size": {
             "bdata": "BA==",
             "dtype": "i1"
            },
            "sizemode": "area",
            "sizeref": 0.0625
           },
           "mode": "markers",
           "name": "",
           "showlegend": false,
           "subplot": "mapbox",
           "type": "scattermapbox"
          }
         ],
         "name": "2023-03-17"
        },
        {
         "data": [
          {
           "customdata": [
            [
             "2023-03-24"
            ]
           ],
           "hovertemplate": "Last Update=%{customdata[0]}<br>Size=%{marker.size}<br>Latitude=%{lat}<br>Longitude=%{lon}<extra></extra>",
           "lat": {
            "bdata": "KVyPwvX4UcA=",
            "dtype": "f8"
           },
           "legendgroup": "",
           "lon": {
            "bdata": "MzMzMzPTSMA=",
            "dtype": "f8"
           },
           "marker": {
            "color": "#636efa",
            "size": {
             "bdata": "BA==",
             "dtype": "i1"
            },
            "sizemode": "area",
            "sizeref": 0.0625
           },
           "mode": "markers",
           "name": "",
           "showlegend": false,
           "subplot": "mapbox",
           "type": "scattermapbox"
          }
         ],
         "name": "2023-03-24"
        },
        {
         "data": [
          {
           "customdata": [
            [
             "2023-03-31"
            ]
           ],
           "hovertemplate": "Last Update=%{customdata[0]}<br>Size=%{marker.size}<br>Latitude=%{lat}<br>Longitude=%{lon}<extra></extra>",
           "lat": {
            "bdata": "uB6F61H4UcA=",
            "dtype": "f8"
           },
           "legendgroup": "",
           "lon": {
            "bdata": "CtejcD0KScA=",
            "dtype": "f8"
           },
           "marker": {
            "color": "#636efa",
            "size": {
             "bdata": "BA==",
             "dtype": "i1"
            },
            "sizemode": "area",
            "sizeref": 0.0625
           },
           "mode": "markers",
           "name": "",
           "showlegend": false,
           "subplot": "mapbox",
           "type": "scattermapbox"
          }
         ],
         "name": "2023-03-31"
        },
        {
         "data": [
          {
           "customdata": [
            [
             "2023-04-07"
            ]
           ],
           "hovertemplate": "Last Update=%{customdata[0]}<br>Size=%{marker.size}<br>Latitude=%{lat}<br>Longitude=%{lon}<extra></extra>",
           "lat": {
            "bdata": "FK5H4Xr0UcA=",
            "dtype": "f8"
           },
           "legendgroup": "",
           "lon": {
            "bdata": "ZmZmZmZGScA=",
            "dtype": "f8"
           },
           "marker": {
            "color": "#636efa",
            "size": {
             "bdata": "BA==",
             "dtype": "i1"
            },
            "sizemode": "area",
            "sizeref": 0.0625
           },
           "mode": "markers",
           "name": "",
           "showlegend": false,
           "subplot": "mapbox",
           "type": "scattermapbox"
          }
         ],
         "name": "2023-04-07"
        },
        {
         "data": [
          {
           "customdata": [
            [
             "2023-04-14"
            ]
           ],
           "hovertemplate": "Last Update=%{customdata[0]}<br>Size=%{marker.size}<br>Latitude=%{lat}<br>Longitude=%{lon}<extra></extra>",
           "lat": {
            "bdata": "cT0K16PwUcA=",
            "dtype": "f8"
           },
           "legendgroup": "",
           "lon": {
            "bdata": "KVyPwvWoScA=",
            "dtype": "f8"
           },
           "marker": {
            "color": "#636efa",
            "size": {
             "bdata": "BA==",
             "dtype": "i1"
            },
            "sizemode": "area",
            "sizeref": 0.0625
           },
           "mode": "markers",
           "name": "",
           "showlegend": false,
           "subplot": "mapbox",
           "type": "scattermapbox"
          }
         ],
         "name": "2023-04-14"
        },
        {
         "data": [
          {
           "customdata": [
            [
             "2023-04-21"
            ]
           ],
           "hovertemplate": "Last Update=%{customdata[0]}<br>Size=%{marker.size}<br>Latitude=%{lat}<br>Longitude=%{lon}<extra></extra>",
           "lat": {
            "bdata": "7FG4HoXrUcA=",
            "dtype": "f8"
           },
           "legendgroup": "",
           "lon": {
            "bdata": "MzMzMzPzScA=",
            "dtype": "f8"
           },
           "marker": {
            "color": "#636efa",
            "size": {
             "bdata": "BA==",
             "dtype": "i1"
            },
            "sizemode": "area",
            "sizeref": 0.0625
           },
           "mode": "markers",
           "name": "",
           "showlegend": false,
           "subplot": "mapbox",
           "type": "scattermapbox"
          }
         ],
         "name": "2023-04-21"
        },
        {
         "data": [
          {
           "customdata": [
            [
             "2023-04-28"
            ]
           ],
           "hovertemplate": "Last Update=%{customdata[0]}<br>Size=%{marker.size}<br>Latitude=%{lat}<br>Longitude=%{lon}<extra></extra>",
           "lat": {
            "bdata": "w/UoXI/iUcA=",
            "dtype": "f8"
           },
           "legendgroup": "",
           "lon": {
            "bdata": "w/UoXI8CSsA=",
            "dtype": "f8"
           },
           "marker": {
            "color": "#636efa",
            "size": {
             "bdata": "BA==",
             "dtype": "i1"
            },
            "sizemode": "area",
            "sizeref": 0.0625
           },
           "mode": "markers",
           "name": "",
           "showlegend": false,
           "subplot": "mapbox",
           "type": "scattermapbox"
          }
         ],
         "name": "2023-04-28"
        },
        {
         "data": [
          {
           "customdata": [
            [
             "2023-05-05"
            ]
           ],
           "hovertemplate": "Last Update=%{customdata[0]}<br>Size=%{marker.size}<br>Latitude=%{lat}<br>Longitude=%{lon}<extra></extra>",
           "lat": {
            "bdata": "ZmZmZmbWUcA=",
            "dtype": "f8"
           },
           "legendgroup": "",
           "lon": {
            "bdata": "w/UoXI9iSsA=",
            "dtype": "f8"
           },
           "marker": {
            "color": "#636efa",
            "size": {
             "bdata": "BA==",
             "dtype": "i1"
            },
            "sizemode": "area",
            "sizeref": 0.0625
           },
           "mode": "markers",
           "name": "",
           "showlegend": false,
           "subplot": "mapbox",
           "type": "scattermapbox"
          }
         ],
         "name": "2023-05-05"
        },
        {
         "data": [
          {
           "customdata": [
            [
             "2023-05-12"
            ]
           ],
           "hovertemplate": "Last Update=%{customdata[0]}<br>Size=%{marker.size}<br>Latitude=%{lat}<br>Longitude=%{lon}<extra></extra>",
           "lat": {
            "bdata": "4XoUrkfBUcA=",
            "dtype": "f8"
           },
           "legendgroup": "",
           "lon": {
            "bdata": "cT0K16MQS8A=",
            "dtype": "f8"
           },
           "marker": {
            "color": "#636efa",
            "size": {
             "bdata": "BA==",
             "dtype": "i1"
            },
            "sizemode": "area",
            "sizeref": 0.0625
           },
           "mode": "markers",
           "name": "",
           "showlegend": false,
           "subplot": "mapbox",
           "type": "scattermapbox"
          }
         ],
         "name": "2023-05-12"
        },
        {
         "data": [
          {
           "customdata": [
            [
             "2023-05-19"
            ]
           ],
           "hovertemplate": "Last Update=%{customdata[0]}<br>Size=%{marker.size}<br>Latitude=%{lat}<br>Longitude=%{lon}<extra></extra>",
           "lat": {
            "bdata": "FK5H4Xq0UcA=",
            "dtype": "f8"
           },
           "legendgroup": "",
           "lon": {
            "bdata": "MzMzMzMzS8A=",
            "dtype": "f8"
           },
           "marker": {
            "color": "#636efa",
            "size": {
             "bdata": "BA==",
             "dtype": "i1"
            },
            "sizemode": "area",
            "sizeref": 0.0625
           },
           "mode": "markers",
           "name": "",
           "showlegend": false,
           "subplot": "mapbox",
           "type": "scattermapbox"
          }
         ],
         "name": "2023-05-19"
        },
        {
         "data": [
          {
           "customdata": [
            [
             "2023-05-26"
            ]
           ],
           "hovertemplate": "Last Update=%{customdata[0]}<br>Size=%{marker.size}<br>Latitude=%{lat}<br>Longitude=%{lon}<extra></extra>",
           "lat": {
            "bdata": "cT0K16OwUcA=",
            "dtype": "f8"
           },
           "legendgroup": "",
           "lon": {
            "bdata": "AAAAAABAS8A=",
            "dtype": "f8"
           },
           "marker": {
            "color": "#636efa",
            "size": {
             "bdata": "BA==",
             "dtype": "i1"
            },
            "sizemode": "area",
            "sizeref": 0.0625
           },
           "mode": "markers",
           "name": "",
           "showlegend": false,
           "subplot": "mapbox",
           "type": "scattermapbox"
          }
         ],
         "name": "2023-05-26"
        },
        {
         "data": [
          {
           "customdata": [
            [
             "2023-06-02"
            ]
           ],
           "hovertemplate": "Last Update=%{customdata[0]}<br>Size=%{marker.size}<br>Latitude=%{lat}<br>Longitude=%{lon}<extra></extra>",
           "lat": {
            "bdata": "AAAAAACgUcA=",
            "dtype": "f8"
           },
           "legendgroup": "",
           "lon": {
            "bdata": "ZmZmZmaGS8A=",
            "dtype": "f8"
           },
           "marker": {
            "color": "#636efa",
            "size": {
             "bdata": "BA==",
             "dtype": "i1"
            },
            "sizemode": "area",
            "sizeref": 0.0625
           },
           "mode": "markers",
           "name": "",
           "showlegend": false,
           "subplot": "mapbox",
           "type": "scattermapbox"
          }
         ],
         "name": "2023-06-02"
        },
        {
         "data": [
          {
           "customdata": [
            [
             "2023-06-09"
            ]
           ],
           "hovertemplate": "Last Update=%{customdata[0]}<br>Size=%{marker.size}<br>Latitude=%{lat}<br>Longitude=%{lon}<extra></extra>",
           "lat": {
            "bdata": "zczMzMyMUcA=",
            "dtype": "f8"
           },
           "legendgroup": "",
           "lon": {
            "bdata": "KVyPwvXIS8A=",
            "dtype": "f8"
           },
           "marker": {
            "color": "#636efa",
            "size": {
             "bdata": "BA==",
             "dtype": "i1"
            },
            "sizemode": "area",
            "sizeref": 0.0625
           },
           "mode": "markers",
           "name": "",
           "showlegend": false,
           "subplot": "mapbox",
           "type": "scattermapbox"
          }
         ],
         "name": "2023-06-09"
        },
        {
         "data": [
          {
           "customdata": [
            [
             "2023-06-15"
            ]
           ],
           "hovertemplate": "Last Update=%{customdata[0]}<br>Size=%{marker.size}<br>Latitude=%{lat}<br>Longitude=%{lon}<extra></extra>",
           "lat": {
            "bdata": "XI/C9ShcUcA=",
            "dtype": "f8"
           },
           "legendgroup": "",
           "lon": {
            "bdata": "KVyPwvUITMA=",
            "dtype": "f8"
           },
           "marker": {
            "color": "#636efa",
            "size": {
             "bdata": "BA==",
             "dtype": "i1"
            },
            "sizemode": "area",
            "sizeref": 0.0625
           },
           "mode": "markers",
           "name": "",
           "showlegend": false,
           "subplot": "mapbox",
           "type": "scattermapbox"
          }
         ],
         "name": "2023-06-15"
        },
        {
         "data": [
          {
           "customdata": [
            [
             "2023-06-23"
            ]
           ],
           "hovertemplate": "Last Update=%{customdata[0]}<br>Size=%{marker.size}<br>Latitude=%{lat}<br>Longitude=%{lon}<extra></extra>",
           "lat": {
            "bdata": "AAAAAACgUcA=",
            "dtype": "f8"
           },
           "legendgroup": "",
           "lon": {
            "bdata": "ZmZmZmaGS8A=",
            "dtype": "f8"
           },
           "marker": {
            "color": "#636efa",
            "size": {
             "bdata": "BA==",
             "dtype": "i1"
            },
            "sizemode": "area",
            "sizeref": 0.0625
           },
           "mode": "markers",
           "name": "",
           "showlegend": false,
           "subplot": "mapbox",
           "type": "scattermapbox"
          }
         ],
         "name": "2023-06-23"
        },
        {
         "data": [
          {
           "customdata": [
            [
             "2023-06-24"
            ]
           ],
           "hovertemplate": "Last Update=%{customdata[0]}<br>Size=%{marker.size}<br>Latitude=%{lat}<br>Longitude=%{lon}<extra></extra>",
           "lat": {
            "bdata": "SOF6FK5HUcA=",
            "dtype": "f8"
           },
           "legendgroup": "",
           "lon": {
            "bdata": "SOF6FK4HTMA=",
            "dtype": "f8"
           },
           "marker": {
            "color": "#636efa",
            "size": {
             "bdata": "BA==",
             "dtype": "i1"
            },
            "sizemode": "area",
            "sizeref": 0.0625
           },
           "mode": "markers",
           "name": "",
           "showlegend": false,
           "subplot": "mapbox",
           "type": "scattermapbox"
          }
         ],
         "name": "2023-06-24"
        },
        {
         "data": [
          {
           "customdata": [
            [
             "2023-06-30"
            ]
           ],
           "hovertemplate": "Last Update=%{customdata[0]}<br>Size=%{marker.size}<br>Latitude=%{lat}<br>Longitude=%{lon}<extra></extra>",
           "lat": {
            "bdata": "hetRuB4VUcA=",
            "dtype": "f8"
           },
           "legendgroup": "",
           "lon": {
            "bdata": "mpmZmZn5S8A=",
            "dtype": "f8"
           },
           "marker": {
            "color": "#636efa",
            "size": {
             "bdata": "BA==",
             "dtype": "i1"
            },
            "sizemode": "area",
            "sizeref": 0.0625
           },
           "mode": "markers",
           "name": "",
           "showlegend": false,
           "subplot": "mapbox",
           "type": "scattermapbox"
          }
         ],
         "name": "2023-06-30"
        },
        {
         "data": [
          {
           "customdata": [
            [
             "2023-07-07"
            ]
           ],
           "hovertemplate": "Last Update=%{customdata[0]}<br>Size=%{marker.size}<br>Latitude=%{lat}<br>Longitude=%{lon}<extra></extra>",
           "lat": {
            "bdata": "H4XrUbgOUcA=",
            "dtype": "f8"
           },
           "legendgroup": "",
           "lon": {
            "bdata": "16NwPQrXS8A=",
            "dtype": "f8"
           },
           "marker": {
            "color": "#636efa",
            "size": {
             "bdata": "BA==",
             "dtype": "i1"
            },
            "sizemode": "area",
            "sizeref": 0.0625
           },
           "mode": "markers",
           "name": "",
           "showlegend": false,
           "subplot": "mapbox",
           "type": "scattermapbox"
          }
         ],
         "name": "2023-07-07"
        },
        {
         "data": [
          {
           "customdata": [
            [
             "2023-07-14"
            ]
           ],
           "hovertemplate": "Last Update=%{customdata[0]}<br>Size=%{marker.size}<br>Latitude=%{lat}<br>Longitude=%{lon}<extra></extra>",
           "lat": {
            "bdata": "pHA9CtfzUMA=",
            "dtype": "f8"
           },
           "legendgroup": "",
           "lon": {
            "bdata": "ZmZmZmbGS8A=",
            "dtype": "f8"
           },
           "marker": {
            "color": "#636efa",
            "size": {
             "bdata": "BA==",
             "dtype": "i1"
            },
            "sizemode": "area",
            "sizeref": 0.0625
           },
           "mode": "markers",
           "name": "",
           "showlegend": false,
           "subplot": "mapbox",
           "type": "scattermapbox"
          }
         ],
         "name": "2023-07-14"
        },
        {
         "data": [
          {
           "customdata": [
            [
             "2023-07-21"
            ]
           ],
           "hovertemplate": "Last Update=%{customdata[0]}<br>Size=%{marker.size}<br>Latitude=%{lat}<br>Longitude=%{lon}<extra></extra>",
           "lat": {
            "bdata": "pHA9CtfzUMA=",
            "dtype": "f8"
           },
           "legendgroup": "",
           "lon": {
            "bdata": "ZmZmZmbGS8A=",
            "dtype": "f8"
           },
           "marker": {
            "color": "#636efa",
            "size": {
             "bdata": "BA==",
             "dtype": "i1"
            },
            "sizemode": "area",
            "sizeref": 0.0625
           },
           "mode": "markers",
           "name": "",
           "showlegend": false,
           "subplot": "mapbox",
           "type": "scattermapbox"
          }
         ],
         "name": "2023-07-21"
        },
        {
         "data": [
          {
           "customdata": [
            [
             "2023-07-27"
            ]
           ],
           "hovertemplate": "Last Update=%{customdata[0]}<br>Size=%{marker.size}<br>Latitude=%{lat}<br>Longitude=%{lon}<extra></extra>",
           "lat": {
            "bdata": "pHA9CtfzUMA=",
            "dtype": "f8"
           },
           "legendgroup": "",
           "lon": {
            "bdata": "ZmZmZmbGS8A=",
            "dtype": "f8"
           },
           "marker": {
            "color": "#636efa",
            "size": {
             "bdata": "BA==",
             "dtype": "i1"
            },
            "sizemode": "area",
            "sizeref": 0.0625
           },
           "mode": "markers",
           "name": "",
           "showlegend": false,
           "subplot": "mapbox",
           "type": "scattermapbox"
          }
         ],
         "name": "2023-07-27"
        },
        {
         "data": [
          {
           "customdata": [
            [
             "2023-07-28"
            ]
           ],
           "hovertemplate": "Last Update=%{customdata[0]}<br>Size=%{marker.size}<br>Latitude=%{lat}<br>Longitude=%{lon}<extra></extra>",
           "lat": {
            "bdata": "AAAAAACgUcA=",
            "dtype": "f8"
           },
           "legendgroup": "",
           "lon": {
            "bdata": "ZmZmZmaGS8A=",
            "dtype": "f8"
           },
           "marker": {
            "color": "#636efa",
            "size": {
             "bdata": "BA==",
             "dtype": "i1"
            },
            "sizemode": "area",
            "sizeref": 0.0625
           },
           "mode": "markers",
           "name": "",
           "showlegend": false,
           "subplot": "mapbox",
           "type": "scattermapbox"
          }
         ],
         "name": "2023-07-28"
        },
        {
         "data": [
          {
           "customdata": [
            [
             "2023-08-04"
            ]
           ],
           "hovertemplate": "Last Update=%{customdata[0]}<br>Size=%{marker.size}<br>Latitude=%{lat}<br>Longitude=%{lon}<extra></extra>",
           "lat": {
            "bdata": "FK5H4XqkUMA=",
            "dtype": "f8"
           },
           "legendgroup": "",
           "lon": {
            "bdata": "ZmZmZmaGS8A=",
            "dtype": "f8"
           },
           "marker": {
            "color": "#636efa",
            "size": {
             "bdata": "BA==",
             "dtype": "i1"
            },
            "sizemode": "area",
            "sizeref": 0.0625
           },
           "mode": "markers",
           "name": "",
           "showlegend": false,
           "subplot": "mapbox",
           "type": "scattermapbox"
          }
         ],
         "name": "2023-08-04"
        },
        {
         "data": [
          {
           "customdata": [
            [
             "2023-08-11"
            ]
           ],
           "hovertemplate": "Last Update=%{customdata[0]}<br>Size=%{marker.size}<br>Latitude=%{lat}<br>Longitude=%{lon}<extra></extra>",
           "lat": {
            "bdata": "AAAAAACQUMA=",
            "dtype": "f8"
           },
           "legendgroup": "",
           "lon": {
            "bdata": "exSuR+E6S8A=",
            "dtype": "f8"
           },
           "marker": {
            "color": "#636efa",
            "size": {
             "bdata": "BA==",
             "dtype": "i1"
            },
            "sizemode": "area",
            "sizeref": 0.0625
           },
           "mode": "markers",
           "name": "",
           "showlegend": false,
           "subplot": "mapbox",
           "type": "scattermapbox"
          }
         ],
         "name": "2023-08-11"
        },
        {
         "data": [
          {
           "customdata": [
            [
             "2023-08-18"
            ]
           ],
           "hovertemplate": "Last Update=%{customdata[0]}<br>Size=%{marker.size}<br>Latitude=%{lat}<br>Longitude=%{lon}<extra></extra>",
           "lat": {
            "bdata": "AAAAAACAUMA=",
            "dtype": "f8"
           },
           "legendgroup": "",
           "lon": {
            "bdata": "AAAAAAAAS8A=",
            "dtype": "f8"
           },
           "marker": {
            "color": "#636efa",
            "size": {
             "bdata": "BA==",
             "dtype": "i1"
            },
            "sizemode": "area",
            "sizeref": 0.0625
           },
           "mode": "markers",
           "name": "",
           "showlegend": false,
           "subplot": "mapbox",
           "type": "scattermapbox"
          }
         ],
         "name": "2023-08-18"
        },
        {
         "data": [
          {
           "customdata": [
            [
             "2023-08-25"
            ]
           ],
           "hovertemplate": "Last Update=%{customdata[0]}<br>Size=%{marker.size}<br>Latitude=%{lat}<br>Longitude=%{lon}<extra></extra>",
           "lat": {
            "bdata": "AAAAAACAUMA=",
            "dtype": "f8"
           },
           "legendgroup": "",
           "lon": {
            "bdata": "AAAAAAAAS8A=",
            "dtype": "f8"
           },
           "marker": {
            "color": "#636efa",
            "size": {
             "bdata": "BA==",
             "dtype": "i1"
            },
            "sizemode": "area",
            "sizeref": 0.0625
           },
           "mode": "markers",
           "name": "",
           "showlegend": false,
           "subplot": "mapbox",
           "type": "scattermapbox"
          }
         ],
         "name": "2023-08-25"
        },
        {
         "data": [
          {
           "customdata": [
            [
             "2023-09-01"
            ]
           ],
           "hovertemplate": "Last Update=%{customdata[0]}<br>Size=%{marker.size}<br>Latitude=%{lat}<br>Longitude=%{lon}<extra></extra>",
           "lat": {
            "bdata": "rkfhehRuUMA=",
            "dtype": "f8"
           },
           "legendgroup": "",
           "lon": {
            "bdata": "PQrXo3C9SsA=",
            "dtype": "f8"
           },
           "marker": {
            "color": "#636efa",
            "size": {
             "bdata": "BA==",
             "dtype": "i1"
            },
            "sizemode": "area",
            "sizeref": 0.0625
           },
           "mode": "markers",
           "name": "",
           "showlegend": false,
           "subplot": "mapbox",
           "type": "scattermapbox"
          }
         ],
         "name": "2023-09-01"
        },
        {
         "data": [
          {
           "customdata": [
            [
             "2023-09-08"
            ]
           ],
           "hovertemplate": "Last Update=%{customdata[0]}<br>Size=%{marker.size}<br>Latitude=%{lat}<br>Longitude=%{lon}<extra></extra>",
           "lat": {
            "bdata": "PQrXo3BdUMA=",
            "dtype": "f8"
           },
           "legendgroup": "",
           "lon": {
            "bdata": "cT0K16PQSsA=",
            "dtype": "f8"
           },
           "marker": {
            "color": "#636efa",
            "size": {
             "bdata": "BA==",
             "dtype": "i1"
            },
            "sizemode": "area",
            "sizeref": 0.0625
           },
           "mode": "markers",
           "name": "",
           "showlegend": false,
           "subplot": "mapbox",
           "type": "scattermapbox"
          }
         ],
         "name": "2023-09-08"
        },
        {
         "data": [
          {
           "customdata": [
            [
             "2023-09-15"
            ]
           ],
           "hovertemplate": "Last Update=%{customdata[0]}<br>Size=%{marker.size}<br>Latitude=%{lat}<br>Longitude=%{lon}<extra></extra>",
           "lat": {
            "bdata": "hetRuB5FUMA=",
            "dtype": "f8"
           },
           "legendgroup": "",
           "lon": {
            "bdata": "mpmZmZnZSsA=",
            "dtype": "f8"
           },
           "marker": {
            "color": "#636efa",
            "size": {
             "bdata": "BA==",
             "dtype": "i1"
            },
            "sizemode": "area",
            "sizeref": 0.0625
           },
           "mode": "markers",
           "name": "",
           "showlegend": false,
           "subplot": "mapbox",
           "type": "scattermapbox"
          }
         ],
         "name": "2023-09-15"
        },
        {
         "data": [
          {
           "customdata": [
            [
             "2023-09-22"
            ]
           ],
           "hovertemplate": "Last Update=%{customdata[0]}<br>Size=%{marker.size}<br>Latitude=%{lat}<br>Longitude=%{lon}<extra></extra>",
           "lat": {
            "bdata": "KVyPwvUoUMA=",
            "dtype": "f8"
           },
           "legendgroup": "",
           "lon": {
            "bdata": "exSuR+H6SsA=",
            "dtype": "f8"
           },
           "marker": {
            "color": "#636efa",
            "size": {
             "bdata": "BA==",
             "dtype": "i1"
            },
            "sizemode": "area",
            "sizeref": 0.0625
           },
           "mode": "markers",
           "name": "",
           "showlegend": false,
           "subplot": "mapbox",
           "type": "scattermapbox"
          }
         ],
         "name": "2023-09-22"
        },
        {
         "data": [
          {
           "customdata": [
            [
             "2023-09-30"
            ]
           ],
           "hovertemplate": "Last Update=%{customdata[0]}<br>Size=%{marker.size}<br>Latitude=%{lat}<br>Longitude=%{lon}<extra></extra>",
           "lat": {
            "bdata": "H4XrUbgOUMA=",
            "dtype": "f8"
           },
           "legendgroup": "",
           "lon": {
            "bdata": "9ihcj8LVSsA=",
            "dtype": "f8"
           },
           "marker": {
            "color": "#636efa",
            "size": {
             "bdata": "BA==",
             "dtype": "i1"
            },
            "sizemode": "area",
            "sizeref": 0.0625
           },
           "mode": "markers",
           "name": "",
           "showlegend": false,
           "subplot": "mapbox",
           "type": "scattermapbox"
          }
         ],
         "name": "2023-09-30"
        },
        {
         "data": [
          {
           "customdata": [
            [
             "2023-10-06"
            ]
           ],
           "hovertemplate": "Last Update=%{customdata[0]}<br>Size=%{marker.size}<br>Latitude=%{lat}<br>Longitude=%{lon}<extra></extra>",
           "lat": {
            "bdata": "FK5H4XoEUMA=",
            "dtype": "f8"
           },
           "legendgroup": "",
           "lon": {
            "bdata": "rkfhehSOSsA=",
            "dtype": "f8"
           },
           "marker": {
            "color": "#636efa",
            "size": {
             "bdata": "BA==",
             "dtype": "i1"
            },
            "sizemode": "area",
            "sizeref": 0.0625
           },
           "mode": "markers",
           "name": "",
           "showlegend": false,
           "subplot": "mapbox",
           "type": "scattermapbox"
          }
         ],
         "name": "2023-10-06"
        },
        {
         "data": [
          {
           "customdata": [
            [
             "2023-10-13"
            ]
           ],
           "hovertemplate": "Last Update=%{customdata[0]}<br>Size=%{marker.size}<br>Latitude=%{lat}<br>Longitude=%{lon}<extra></extra>",
           "lat": {
            "bdata": "AAAAAAAAUMA=",
            "dtype": "f8"
           },
           "legendgroup": "",
           "lon": {
            "bdata": "AAAAAABgSsA=",
            "dtype": "f8"
           },
           "marker": {
            "color": "#636efa",
            "size": {
             "bdata": "BA==",
             "dtype": "i1"
            },
            "sizemode": "area",
            "sizeref": 0.0625
           },
           "mode": "markers",
           "name": "",
           "showlegend": false,
           "subplot": "mapbox",
           "type": "scattermapbox"
          }
         ],
         "name": "2023-10-13"
        },
        {
         "data": [
          {
           "customdata": [
            [
             "2023-10-20"
            ]
           ],
           "hovertemplate": "Last Update=%{customdata[0]}<br>Size=%{marker.size}<br>Latitude=%{lat}<br>Longitude=%{lon}<extra></extra>",
           "lat": {
            "bdata": "pHA9CtfjT8A=",
            "dtype": "f8"
           },
           "legendgroup": "",
           "lon": {
            "bdata": "pHA9CtcDSsA=",
            "dtype": "f8"
           },
           "marker": {
            "color": "#636efa",
            "size": {
             "bdata": "BA==",
             "dtype": "i1"
            },
            "sizemode": "area",
            "sizeref": 0.0625
           },
           "mode": "markers",
           "name": "",
           "showlegend": false,
           "subplot": "mapbox",
           "type": "scattermapbox"
          }
         ],
         "name": "2023-10-20"
        },
        {
         "data": [
          {
           "customdata": [
            [
             "2023-10-26"
            ]
           ],
           "hovertemplate": "Last Update=%{customdata[0]}<br>Size=%{marker.size}<br>Latitude=%{lat}<br>Longitude=%{lon}<extra></extra>",
           "lat": {
            "bdata": "CtejcD3KT8A=",
            "dtype": "f8"
           },
           "legendgroup": "",
           "lon": {
            "bdata": "SOF6FK7nScA=",
            "dtype": "f8"
           },
           "marker": {
            "color": "#636efa",
            "size": {
             "bdata": "BA==",
             "dtype": "i1"
            },
            "sizemode": "area",
            "sizeref": 0.0625
           },
           "mode": "markers",
           "name": "",
           "showlegend": false,
           "subplot": "mapbox",
           "type": "scattermapbox"
          }
         ],
         "name": "2023-10-26"
        },
        {
         "data": [
          {
           "customdata": [
            [
             "2023-11-03"
            ]
           ],
           "hovertemplate": "Last Update=%{customdata[0]}<br>Size=%{marker.size}<br>Latitude=%{lat}<br>Longitude=%{lon}<extra></extra>",
           "lat": {
            "bdata": "7FG4HoWrT8A=",
            "dtype": "f8"
           },
           "legendgroup": "",
           "lon": {
            "bdata": "16NwPQrXScA=",
            "dtype": "f8"
           },
           "marker": {
            "color": "#636efa",
            "size": {
             "bdata": "BA==",
             "dtype": "i1"
            },
            "sizemode": "area",
            "sizeref": 0.0625
           },
           "mode": "markers",
           "name": "",
           "showlegend": false,
           "subplot": "mapbox",
           "type": "scattermapbox"
          }
         ],
         "name": "2023-11-03"
        },
        {
         "data": [
          {
           "customdata": [
            [
             "2023-11-09"
            ]
           ],
           "hovertemplate": "Last Update=%{customdata[0]}<br>Size=%{marker.size}<br>Latitude=%{lat}<br>Longitude=%{lon}<extra></extra>",
           "lat": {
            "bdata": "cT0K16OQT8A=",
            "dtype": "f8"
           },
           "legendgroup": "",
           "lon": {
            "bdata": "9ihcj8LVScA=",
            "dtype": "f8"
           },
           "marker": {
            "color": "#636efa",
            "size": {
             "bdata": "BA==",
             "dtype": "i1"
            },
            "sizemode": "area",
            "sizeref": 0.0625
           },
           "mode": "markers",
           "name": "",
           "showlegend": false,
           "subplot": "mapbox",
           "type": "scattermapbox"
          }
         ],
         "name": "2023-11-09"
        },
        {
         "data": [
          {
           "customdata": [
            [
             "2023-11-17"
            ]
           ],
           "hovertemplate": "Last Update=%{customdata[0]}<br>Size=%{marker.size}<br>Latitude=%{lat}<br>Longitude=%{lon}<extra></extra>",
           "lat": {
            "bdata": "exSuR+F6T8A=",
            "dtype": "f8"
           },
           "legendgroup": "",
           "lon": {
            "bdata": "UrgehevxScA=",
            "dtype": "f8"
           },
           "marker": {
            "color": "#636efa",
            "size": {
             "bdata": "BA==",
             "dtype": "i1"
            },
            "sizemode": "area",
            "sizeref": 0.0625
           },
           "mode": "markers",
           "name": "",
           "showlegend": false,
           "subplot": "mapbox",
           "type": "scattermapbox"
          }
         ],
         "name": "2023-11-17"
        },
        {
         "data": [
          {
           "customdata": [
            [
             "2023-11-24"
            ]
           ],
           "hovertemplate": "Last Update=%{customdata[0]}<br>Size=%{marker.size}<br>Latitude=%{lat}<br>Longitude=%{lon}<extra></extra>",
           "lat": {
            "bdata": "KVyPwvVoT8A=",
            "dtype": "f8"
           },
           "legendgroup": "",
           "lon": {
            "bdata": "uB6F61E4SsA=",
            "dtype": "f8"
           },
           "marker": {
            "color": "#636efa",
            "size": {
             "bdata": "BA==",
             "dtype": "i1"
            },
            "sizemode": "area",
            "sizeref": 0.0625
           },
           "mode": "markers",
           "name": "",
           "showlegend": false,
           "subplot": "mapbox",
           "type": "scattermapbox"
          }
         ],
         "name": "2023-11-24"
        },
        {
         "data": [
          {
           "customdata": [
            [
             "2023-12-08"
            ]
           ],
           "hovertemplate": "Last Update=%{customdata[0]}<br>Size=%{marker.size}<br>Latitude=%{lat}<br>Longitude=%{lon}<extra></extra>",
           "lat": {
            "bdata": "UrgehesxT8A=",
            "dtype": "f8"
           },
           "legendgroup": "",
           "lon": {
            "bdata": "ZmZmZmaGSsA=",
            "dtype": "f8"
           },
           "marker": {
            "color": "#636efa",
            "size": {
             "bdata": "BA==",
             "dtype": "i1"
            },
            "sizemode": "area",
            "sizeref": 0.0625
           },
           "mode": "markers",
           "name": "",
           "showlegend": false,
           "subplot": "mapbox",
           "type": "scattermapbox"
          }
         ],
         "name": "2023-12-08"
        },
        {
         "data": [
          {
           "customdata": [
            [
             "2023-12-15"
            ]
           ],
           "hovertemplate": "Last Update=%{customdata[0]}<br>Size=%{marker.size}<br>Latitude=%{lat}<br>Longitude=%{lon}<extra></extra>",
           "lat": {
            "bdata": "16NwPQoXT8A=",
            "dtype": "f8"
           },
           "legendgroup": "",
           "lon": {
            "bdata": "FK5H4Xp0SsA=",
            "dtype": "f8"
           },
           "marker": {
            "color": "#636efa",
            "size": {
             "bdata": "BA==",
             "dtype": "i1"
            },
            "sizemode": "area",
            "sizeref": 0.0625
           },
           "mode": "markers",
           "name": "",
           "showlegend": false,
           "subplot": "mapbox",
           "type": "scattermapbox"
          }
         ],
         "name": "2023-12-15"
        },
        {
         "data": [
          {
           "customdata": [
            [
             "2023-12-21"
            ]
           ],
           "hovertemplate": "Last Update=%{customdata[0]}<br>Size=%{marker.size}<br>Latitude=%{lat}<br>Longitude=%{lon}<extra></extra>",
           "lat": {
            "bdata": "w/UoXI8CT8A=",
            "dtype": "f8"
           },
           "legendgroup": "",
           "lon": {
            "bdata": "PQrXo3AdSsA=",
            "dtype": "f8"
           },
           "marker": {
            "color": "#636efa",
            "size": {
             "bdata": "BA==",
             "dtype": "i1"
            },
            "sizemode": "area",
            "sizeref": 0.0625
           },
           "mode": "markers",
           "name": "",
           "showlegend": false,
           "subplot": "mapbox",
           "type": "scattermapbox"
          }
         ],
         "name": "2023-12-21"
        },
        {
         "data": [
          {
           "customdata": [
            [
             "2023-12-28"
            ]
           ],
           "hovertemplate": "Last Update=%{customdata[0]}<br>Size=%{marker.size}<br>Latitude=%{lat}<br>Longitude=%{lon}<extra></extra>",
           "lat": {
            "bdata": "7FG4HoXrTsA=",
            "dtype": "f8"
           },
           "legendgroup": "",
           "lon": {
            "bdata": "H4XrUbjeScA=",
            "dtype": "f8"
           },
           "marker": {
            "color": "#636efa",
            "size": {
             "bdata": "BA==",
             "dtype": "i1"
            },
            "sizemode": "area",
            "sizeref": 0.0625
           },
           "mode": "markers",
           "name": "",
           "showlegend": false,
           "subplot": "mapbox",
           "type": "scattermapbox"
          }
         ],
         "name": "2023-12-28"
        },
        {
         "data": [
          {
           "customdata": [
            [
             "2024-01-04"
            ]
           ],
           "hovertemplate": "Last Update=%{customdata[0]}<br>Size=%{marker.size}<br>Latitude=%{lat}<br>Longitude=%{lon}<extra></extra>",
           "lat": {
            "bdata": "9ihcj8K1TsA=",
            "dtype": "f8"
           },
           "legendgroup": "",
           "lon": {
            "bdata": "rkfhehRuScA=",
            "dtype": "f8"
           },
           "marker": {
            "color": "#636efa",
            "size": {
             "bdata": "BA==",
             "dtype": "i1"
            },
            "sizemode": "area",
            "sizeref": 0.0625
           },
           "mode": "markers",
           "name": "",
           "showlegend": false,
           "subplot": "mapbox",
           "type": "scattermapbox"
          }
         ],
         "name": "2024-01-04"
        },
        {
         "data": [
          {
           "customdata": [
            [
             "2024-01-11"
            ]
           ],
           "hovertemplate": "Last Update=%{customdata[0]}<br>Size=%{marker.size}<br>Latitude=%{lat}<br>Longitude=%{lon}<extra></extra>",
           "lat": {
            "bdata": "mpmZmZmZTsA=",
            "dtype": "f8"
           },
           "legendgroup": "",
           "lon": {
            "bdata": "4XoUrkdBScA=",
            "dtype": "f8"
           },
           "marker": {
            "color": "#636efa",
            "size": {
             "bdata": "BA==",
             "dtype": "i1"
            },
            "sizemode": "area",
            "sizeref": 0.0625
           },
           "mode": "markers",
           "name": "",
           "showlegend": false,
           "subplot": "mapbox",
           "type": "scattermapbox"
          }
         ],
         "name": "2024-01-11"
        },
        {
         "data": [
          {
           "customdata": [
            [
             "2024-01-18"
            ]
           ],
           "hovertemplate": "Last Update=%{customdata[0]}<br>Size=%{marker.size}<br>Latitude=%{lat}<br>Longitude=%{lon}<extra></extra>",
           "lat": {
            "bdata": "ZmZmZmaGTsA=",
            "dtype": "f8"
           },
           "legendgroup": "",
           "lon": {
            "bdata": "w/UoXI8iScA=",
            "dtype": "f8"
           },
           "marker": {
            "color": "#636efa",
            "size": {
             "bdata": "BA==",
             "dtype": "i1"
            },
            "sizemode": "area",
            "sizeref": 0.0625
           },
           "mode": "markers",
           "name": "",
           "showlegend": false,
           "subplot": "mapbox",
           "type": "scattermapbox"
          }
         ],
         "name": "2024-01-18"
        },
        {
         "data": [
          {
           "customdata": [
            [
             "2024-01-25"
            ]
           ],
           "hovertemplate": "Last Update=%{customdata[0]}<br>Size=%{marker.size}<br>Latitude=%{lat}<br>Longitude=%{lon}<extra></extra>",
           "lat": {
            "bdata": "zczMzMxsTsA=",
            "dtype": "f8"
           },
           "legendgroup": "",
           "lon": {
            "bdata": "mpmZmZk5ScA=",
            "dtype": "f8"
           },
           "marker": {
            "color": "#636efa",
            "size": {
             "bdata": "BA==",
             "dtype": "i1"
            },
            "sizemode": "area",
            "sizeref": 0.0625
           },
           "mode": "markers",
           "name": "",
           "showlegend": false,
           "subplot": "mapbox",
           "type": "scattermapbox"
          }
         ],
         "name": "2024-01-25"
        },
        {
         "data": [
          {
           "customdata": [
            [
             "2024-02-02"
            ]
           ],
           "hovertemplate": "Last Update=%{customdata[0]}<br>Size=%{marker.size}<br>Latitude=%{lat}<br>Longitude=%{lon}<extra></extra>",
           "lat": {
            "bdata": "SOF6FK5nTsA=",
            "dtype": "f8"
           },
           "legendgroup": "",
           "lon": {
            "bdata": "SOF6FK5nScA=",
            "dtype": "f8"
           },
           "marker": {
            "color": "#636efa",
            "size": {
             "bdata": "BA==",
             "dtype": "i1"
            },
            "sizemode": "area",
            "sizeref": 0.0625
           },
           "mode": "markers",
           "name": "",
           "showlegend": false,
           "subplot": "mapbox",
           "type": "scattermapbox"
          }
         ],
         "name": "2024-02-02"
        },
        {
         "data": [
          {
           "customdata": [
            [
             "2024-02-08"
            ]
           ],
           "hovertemplate": "Last Update=%{customdata[0]}<br>Size=%{marker.size}<br>Latitude=%{lat}<br>Longitude=%{lon}<extra></extra>",
           "lat": {
            "bdata": "j8L1KFxvTsA=",
            "dtype": "f8"
           },
           "legendgroup": "",
           "lon": {
            "bdata": "AAAAAACAScA=",
            "dtype": "f8"
           },
           "marker": {
            "color": "#636efa",
            "size": {
             "bdata": "BA==",
             "dtype": "i1"
            },
            "sizemode": "area",
            "sizeref": 0.0625
           },
           "mode": "markers",
           "name": "",
           "showlegend": false,
           "subplot": "mapbox",
           "type": "scattermapbox"
          }
         ],
         "name": "2024-02-08"
        },
        {
         "data": [
          {
           "customdata": [
            [
             "2024-02-16"
            ]
           ],
           "hovertemplate": "Last Update=%{customdata[0]}<br>Size=%{marker.size}<br>Latitude=%{lat}<br>Longitude=%{lon}<extra></extra>",
           "lat": {
            "bdata": "ZmZmZmZmTsA=",
            "dtype": "f8"
           },
           "legendgroup": "",
           "lon": {
            "bdata": "UrgehevRScA=",
            "dtype": "f8"
           },
           "marker": {
            "color": "#636efa",
            "size": {
             "bdata": "BA==",
             "dtype": "i1"
            },
            "sizemode": "area",
            "sizeref": 0.0625
           },
           "mode": "markers",
           "name": "",
           "showlegend": false,
           "subplot": "mapbox",
           "type": "scattermapbox"
          }
         ],
         "name": "2024-02-16"
        },
        {
         "data": [
          {
           "customdata": [
            [
             "2024-02-23"
            ]
           ],
           "hovertemplate": "Last Update=%{customdata[0]}<br>Size=%{marker.size}<br>Latitude=%{lat}<br>Longitude=%{lon}<extra></extra>",
           "lat": {
            "bdata": "exSuR+FaTsA=",
            "dtype": "f8"
           },
           "legendgroup": "",
           "lon": {
            "bdata": "7FG4HoXLScA=",
            "dtype": "f8"
           },
           "marker": {
            "color": "#636efa",
            "size": {
             "bdata": "BA==",
             "dtype": "i1"
            },
            "sizemode": "area",
            "sizeref": 0.0625
           },
           "mode": "markers",
           "name": "",
           "showlegend": false,
           "subplot": "mapbox",
           "type": "scattermapbox"
          }
         ],
         "name": "2024-02-23"
        },
        {
         "data": [
          {
           "customdata": [
            [
             "2024-03-01"
            ]
           ],
           "hovertemplate": "Last Update=%{customdata[0]}<br>Size=%{marker.size}<br>Latitude=%{lat}<br>Longitude=%{lon}<extra></extra>",
           "lat": {
            "bdata": "SOF6FK5HTsA=",
            "dtype": "f8"
           },
           "legendgroup": "",
           "lon": {
            "bdata": "XI/C9SicScA=",
            "dtype": "f8"
           },
           "marker": {
            "color": "#636efa",
            "size": {
             "bdata": "BA==",
             "dtype": "i1"
            },
            "sizemode": "area",
            "sizeref": 0.0625
           },
           "mode": "markers",
           "name": "",
           "showlegend": false,
           "subplot": "mapbox",
           "type": "scattermapbox"
          }
         ],
         "name": "2024-03-01"
        },
        {
         "data": [
          {
           "customdata": [
            [
             "2024-03-07"
            ]
           ],
           "hovertemplate": "Last Update=%{customdata[0]}<br>Size=%{marker.size}<br>Latitude=%{lat}<br>Longitude=%{lon}<extra></extra>",
           "lat": {
            "bdata": "hetRuB4lTsA=",
            "dtype": "f8"
           },
           "legendgroup": "",
           "lon": {
            "bdata": "pHA9CtcjScA=",
            "dtype": "f8"
           },
           "marker": {
            "color": "#636efa",
            "size": {
             "bdata": "BA==",
             "dtype": "i1"
            },
            "sizemode": "area",
            "sizeref": 0.0625
           },
           "mode": "markers",
           "name": "",
           "showlegend": false,
           "subplot": "mapbox",
           "type": "scattermapbox"
          }
         ],
         "name": "2024-03-07"
        },
        {
         "data": [
          {
           "customdata": [
            [
             "2024-03-15"
            ]
           ],
           "hovertemplate": "Last Update=%{customdata[0]}<br>Size=%{marker.size}<br>Latitude=%{lat}<br>Longitude=%{lon}<extra></extra>",
           "lat": {
            "bdata": "ZmZmZmYGTsA=",
            "dtype": "f8"
           },
           "legendgroup": "",
           "lon": {
            "bdata": "16NwPQq3SMA=",
            "dtype": "f8"
           },
           "marker": {
            "color": "#636efa",
            "size": {
             "bdata": "BA==",
             "dtype": "i1"
            },
            "sizemode": "area",
            "sizeref": 0.0625
           },
           "mode": "markers",
           "name": "",
           "showlegend": false,
           "subplot": "mapbox",
           "type": "scattermapbox"
          }
         ],
         "name": "2024-03-15"
        },
        {
         "data": [
          {
           "customdata": [
            [
             "2024-03-22"
            ]
           ],
           "hovertemplate": "Last Update=%{customdata[0]}<br>Size=%{marker.size}<br>Latitude=%{lat}<br>Longitude=%{lon}<extra></extra>",
           "lat": {
            "bdata": "SOF6FK5HTsA=",
            "dtype": "f8"
           },
           "legendgroup": "",
           "lon": {
            "bdata": "XI/C9SicScA=",
            "dtype": "f8"
           },
           "marker": {
            "color": "#636efa",
            "size": {
             "bdata": "BA==",
             "dtype": "i1"
            },
            "sizemode": "area",
            "sizeref": 0.0625
           },
           "mode": "markers",
           "name": "",
           "showlegend": false,
           "subplot": "mapbox",
           "type": "scattermapbox"
          }
         ],
         "name": "2024-03-22"
        },
        {
         "data": [
          {
           "customdata": [
            [
             "2024-03-29"
            ]
           ],
           "hovertemplate": "Last Update=%{customdata[0]}<br>Size=%{marker.size}<br>Latitude=%{lat}<br>Longitude=%{lon}<extra></extra>",
           "lat": {
            "bdata": "MzMzMzPTTcA=",
            "dtype": "f8"
           },
           "legendgroup": "",
           "lon": {
            "bdata": "j8L1KFyvRsA=",
            "dtype": "f8"
           },
           "marker": {
            "color": "#636efa",
            "size": {
             "bdata": "BA==",
             "dtype": "i1"
            },
            "sizemode": "area",
            "sizeref": 0.0625
           },
           "mode": "markers",
           "name": "",
           "showlegend": false,
           "subplot": "mapbox",
           "type": "scattermapbox"
          }
         ],
         "name": "2024-03-29"
        },
        {
         "data": [
          {
           "customdata": [
            [
             "2024-04-05"
            ]
           ],
           "hovertemplate": "Last Update=%{customdata[0]}<br>Size=%{marker.size}<br>Latitude=%{lat}<br>Longitude=%{lon}<extra></extra>",
           "lat": {
            "bdata": "UrgehetxTcA=",
            "dtype": "f8"
           },
           "legendgroup": "",
           "lon": {
            "bdata": "hetRuB5lRsA=",
            "dtype": "f8"
           },
           "marker": {
            "color": "#636efa",
            "size": {
             "bdata": "BA==",
             "dtype": "i1"
            },
            "sizemode": "area",
            "sizeref": 0.0625
           },
           "mode": "markers",
           "name": "",
           "showlegend": false,
           "subplot": "mapbox",
           "type": "scattermapbox"
          }
         ],
         "name": "2024-04-05"
        },
        {
         "data": [
          {
           "customdata": [
            [
             "2024-04-12"
            ]
           ],
           "hovertemplate": "Last Update=%{customdata[0]}<br>Size=%{marker.size}<br>Latitude=%{lat}<br>Longitude=%{lon}<extra></extra>",
           "lat": {
            "bdata": "zczMzMyMTcA=",
            "dtype": "f8"
           },
           "legendgroup": "",
           "lon": {
            "bdata": "cT0K16OQRsA=",
            "dtype": "f8"
           },
           "marker": {
            "color": "#636efa",
            "size": {
             "bdata": "BA==",
             "dtype": "i1"
            },
            "sizemode": "area",
            "sizeref": 0.0625
           },
           "mode": "markers",
           "name": "",
           "showlegend": false,
           "subplot": "mapbox",
           "type": "scattermapbox"
          }
         ],
         "name": "2024-04-12"
        },
        {
         "data": [
          {
           "customdata": [
            [
             "2024-04-19"
            ]
           ],
           "hovertemplate": "Last Update=%{customdata[0]}<br>Size=%{marker.size}<br>Latitude=%{lat}<br>Longitude=%{lon}<extra></extra>",
           "lat": {
            "bdata": "SOF6FK6nTcA=",
            "dtype": "f8"
           },
           "legendgroup": "",
           "lon": {
            "bdata": "w/UoXI9iRsA=",
            "dtype": "f8"
           },
           "marker": {
            "color": "#636efa",
            "size": {
             "bdata": "BA==",
             "dtype": "i1"
            },
            "sizemode": "area",
            "sizeref": 0.0625
           },
           "mode": "markers",
           "name": "",
           "showlegend": false,
           "subplot": "mapbox",
           "type": "scattermapbox"
          }
         ],
         "name": "2024-04-19"
        },
        {
         "data": [
          {
           "customdata": [
            [
             "2024-04-26"
            ]
           ],
           "hovertemplate": "Last Update=%{customdata[0]}<br>Size=%{marker.size}<br>Latitude=%{lat}<br>Longitude=%{lon}<extra></extra>",
           "lat": {
            "bdata": "CtejcD2KTcA=",
            "dtype": "f8"
           },
           "legendgroup": "",
           "lon": {
            "bdata": "4XoUrkdhRsA=",
            "dtype": "f8"
           },
           "marker": {
            "color": "#636efa",
            "size": {
             "bdata": "BA==",
             "dtype": "i1"
            },
            "sizemode": "area",
            "sizeref": 0.0625
           },
           "mode": "markers",
           "name": "",
           "showlegend": false,
           "subplot": "mapbox",
           "type": "scattermapbox"
          }
         ],
         "name": "2024-04-26"
        },
        {
         "data": [
          {
           "customdata": [
            [
             "2024-05-02"
            ]
           ],
           "hovertemplate": "Last Update=%{customdata[0]}<br>Size=%{marker.size}<br>Latitude=%{lat}<br>Longitude=%{lon}<extra></extra>",
           "lat": {
            "bdata": "pHA9CteDTcA=",
            "dtype": "f8"
           },
           "legendgroup": "",
           "lon": {
            "bdata": "pHA9CtdjRsA=",
            "dtype": "f8"
           },
           "marker": {
            "color": "#636efa",
            "size": {
             "bdata": "BA==",
             "dtype": "i1"
            },
            "sizemode": "area",
            "sizeref": 0.0625
           },
           "mode": "markers",
           "name": "",
           "showlegend": false,
           "subplot": "mapbox",
           "type": "scattermapbox"
          }
         ],
         "name": "2024-05-02"
        },
        {
         "data": [
          {
           "customdata": [
            [
             "2024-05-09"
            ]
           ],
           "hovertemplate": "Last Update=%{customdata[0]}<br>Size=%{marker.size}<br>Latitude=%{lat}<br>Longitude=%{lon}<extra></extra>",
           "lat": {
            "bdata": "7FG4HoWLTcA=",
            "dtype": "f8"
           },
           "legendgroup": "",
           "lon": {
            "bdata": "MzMzMzOTRsA=",
            "dtype": "f8"
           },
           "marker": {
            "color": "#636efa",
            "size": {
             "bdata": "BA==",
             "dtype": "i1"
            },
            "sizemode": "area",
            "sizeref": 0.0625
           },
           "mode": "markers",
           "name": "",
           "showlegend": false,
           "subplot": "mapbox",
           "type": "scattermapbox"
          }
         ],
         "name": "2024-05-09"
        },
        {
         "data": [
          {
           "customdata": [
            [
             "2024-05-17"
            ]
           ],
           "hovertemplate": "Last Update=%{customdata[0]}<br>Size=%{marker.size}<br>Latitude=%{lat}<br>Longitude=%{lon}<extra></extra>",
           "lat": {
            "bdata": "PQrXo3B9TcA=",
            "dtype": "f8"
           },
           "legendgroup": "",
           "lon": {
            "bdata": "cT0K16OQRsA=",
            "dtype": "f8"
           },
           "marker": {
            "color": "#636efa",
            "size": {
             "bdata": "BA==",
             "dtype": "i1"
            },
            "sizemode": "area",
            "sizeref": 0.0625
           },
           "mode": "markers",
           "name": "",
           "showlegend": false,
           "subplot": "mapbox",
           "type": "scattermapbox"
          }
         ],
         "name": "2024-05-17"
        },
        {
         "data": [
          {
           "customdata": [
            [
             "2024-05-24"
            ]
           ],
           "hovertemplate": "Last Update=%{customdata[0]}<br>Size=%{marker.size}<br>Latitude=%{lat}<br>Longitude=%{lon}<extra></extra>",
           "lat": {
            "bdata": "rkfhehRuTcA=",
            "dtype": "f8"
           },
           "legendgroup": "",
           "lon": {
            "bdata": "SOF6FK7HRsA=",
            "dtype": "f8"
           },
           "marker": {
            "color": "#636efa",
            "size": {
             "bdata": "BA==",
             "dtype": "i1"
            },
            "sizemode": "area",
            "sizeref": 0.0625
           },
           "mode": "markers",
           "name": "",
           "showlegend": false,
           "subplot": "mapbox",
           "type": "scattermapbox"
          }
         ],
         "name": "2024-05-24"
        },
        {
         "data": [
          {
           "customdata": [
            [
             "2024-05-31"
            ]
           ],
           "hovertemplate": "Last Update=%{customdata[0]}<br>Size=%{marker.size}<br>Latitude=%{lat}<br>Longitude=%{lon}<extra></extra>",
           "lat": {
            "bdata": "FK5H4Xp0TcA=",
            "dtype": "f8"
           },
           "legendgroup": "",
           "lon": {
            "bdata": "rkfhehTORsA=",
            "dtype": "f8"
           },
           "marker": {
            "color": "#636efa",
            "size": {
             "bdata": "BA==",
             "dtype": "i1"
            },
            "sizemode": "area",
            "sizeref": 0.0625
           },
           "mode": "markers",
           "name": "",
           "showlegend": false,
           "subplot": "mapbox",
           "type": "scattermapbox"
          }
         ],
         "name": "2024-05-31"
        },
        {
         "data": [
          {
           "customdata": [
            [
             "2024-06-07"
            ]
           ],
           "hovertemplate": "Last Update=%{customdata[0]}<br>Size=%{marker.size}<br>Latitude=%{lat}<br>Longitude=%{lon}<extra></extra>",
           "lat": {
            "bdata": "4XoUrkdhTcA=",
            "dtype": "f8"
           },
           "legendgroup": "",
           "lon": {
            "bdata": "MzMzMzPTRsA=",
            "dtype": "f8"
           },
           "marker": {
            "color": "#636efa",
            "size": {
             "bdata": "BA==",
             "dtype": "i1"
            },
            "sizemode": "area",
            "sizeref": 0.0625
           },
           "mode": "markers",
           "name": "",
           "showlegend": false,
           "subplot": "mapbox",
           "type": "scattermapbox"
          }
         ],
         "name": "2024-06-07"
        },
        {
         "data": [
          {
           "customdata": [
            [
             "2024-06-14"
            ]
           ],
           "hovertemplate": "Last Update=%{customdata[0]}<br>Size=%{marker.size}<br>Latitude=%{lat}<br>Longitude=%{lon}<extra></extra>",
           "lat": {
            "bdata": "4XoUrkdhTcA=",
            "dtype": "f8"
           },
           "legendgroup": "",
           "lon": {
            "bdata": "MzMzMzPTRsA=",
            "dtype": "f8"
           },
           "marker": {
            "color": "#636efa",
            "size": {
             "bdata": "BA==",
             "dtype": "i1"
            },
            "sizemode": "area",
            "sizeref": 0.0625
           },
           "mode": "markers",
           "name": "",
           "showlegend": false,
           "subplot": "mapbox",
           "type": "scattermapbox"
          }
         ],
         "name": "2024-06-14"
        },
        {
         "data": [
          {
           "customdata": [
            [
             "2024-06-21"
            ]
           ],
           "hovertemplate": "Last Update=%{customdata[0]}<br>Size=%{marker.size}<br>Latitude=%{lat}<br>Longitude=%{lon}<extra></extra>",
           "lat": {
            "bdata": "4XoUrkdhTcA=",
            "dtype": "f8"
           },
           "legendgroup": "",
           "lon": {
            "bdata": "MzMzMzPTRsA=",
            "dtype": "f8"
           },
           "marker": {
            "color": "#636efa",
            "size": {
             "bdata": "BA==",
             "dtype": "i1"
            },
            "sizemode": "area",
            "sizeref": 0.0625
           },
           "mode": "markers",
           "name": "",
           "showlegend": false,
           "subplot": "mapbox",
           "type": "scattermapbox"
          }
         ],
         "name": "2024-06-21"
        },
        {
         "data": [
          {
           "customdata": [
            [
             "2024-06-27"
            ]
           ],
           "hovertemplate": "Last Update=%{customdata[0]}<br>Size=%{marker.size}<br>Latitude=%{lat}<br>Longitude=%{lon}<extra></extra>",
           "lat": {
            "bdata": "4XoUrkdhTcA=",
            "dtype": "f8"
           },
           "legendgroup": "",
           "lon": {
            "bdata": "MzMzMzPTRsA=",
            "dtype": "f8"
           },
           "marker": {
            "color": "#636efa",
            "size": {
             "bdata": "BA==",
             "dtype": "i1"
            },
            "sizemode": "area",
            "sizeref": 0.0625
           },
           "mode": "markers",
           "name": "",
           "showlegend": false,
           "subplot": "mapbox",
           "type": "scattermapbox"
          }
         ],
         "name": "2024-06-27"
        },
        {
         "data": [
          {
           "customdata": [
            [
             "2024-07-05"
            ]
           ],
           "hovertemplate": "Last Update=%{customdata[0]}<br>Size=%{marker.size}<br>Latitude=%{lat}<br>Longitude=%{lon}<extra></extra>",
           "lat": {
            "bdata": "4XoUrkdhTcA=",
            "dtype": "f8"
           },
           "legendgroup": "",
           "lon": {
            "bdata": "MzMzMzPTRsA=",
            "dtype": "f8"
           },
           "marker": {
            "color": "#636efa",
            "size": {
             "bdata": "BA==",
             "dtype": "i1"
            },
            "sizemode": "area",
            "sizeref": 0.0625
           },
           "mode": "markers",
           "name": "",
           "showlegend": false,
           "subplot": "mapbox",
           "type": "scattermapbox"
          }
         ],
         "name": "2024-07-05"
        },
        {
         "data": [
          {
           "customdata": [
            [
             "2024-07-12"
            ]
           ],
           "hovertemplate": "Last Update=%{customdata[0]}<br>Size=%{marker.size}<br>Latitude=%{lat}<br>Longitude=%{lon}<extra></extra>",
           "lat": {
            "bdata": "hetRuB5FTcA=",
            "dtype": "f8"
           },
           "legendgroup": "",
           "lon": {
            "bdata": "rkfhehRuR8A=",
            "dtype": "f8"
           },
           "marker": {
            "color": "#636efa",
            "size": {
             "bdata": "BA==",
             "dtype": "i1"
            },
            "sizemode": "area",
            "sizeref": 0.0625
           },
           "mode": "markers",
           "name": "",
           "showlegend": false,
           "subplot": "mapbox",
           "type": "scattermapbox"
          }
         ],
         "name": "2024-07-12"
        },
        {
         "data": [
          {
           "customdata": [
            [
             "2024-07-19"
            ]
           ],
           "hovertemplate": "Last Update=%{customdata[0]}<br>Size=%{marker.size}<br>Latitude=%{lat}<br>Longitude=%{lon}<extra></extra>",
           "lat": {
            "bdata": "CtejcD1KTcA=",
            "dtype": "f8"
           },
           "legendgroup": "",
           "lon": {
            "bdata": "FK5H4XpUR8A=",
            "dtype": "f8"
           },
           "marker": {
            "color": "#636efa",
            "size": {
             "bdata": "BA==",
             "dtype": "i1"
            },
            "sizemode": "area",
            "sizeref": 0.0625
           },
           "mode": "markers",
           "name": "",
           "showlegend": false,
           "subplot": "mapbox",
           "type": "scattermapbox"
          }
         ],
         "name": "2024-07-19"
        },
        {
         "data": [
          {
           "customdata": [
            [
             "2024-07-25"
            ]
           ],
           "hovertemplate": "Last Update=%{customdata[0]}<br>Size=%{marker.size}<br>Latitude=%{lat}<br>Longitude=%{lon}<extra></extra>",
           "lat": {
            "bdata": "PQrXo3BdTcA=",
            "dtype": "f8"
           },
           "legendgroup": "",
           "lon": {
            "bdata": "16NwPQpXR8A=",
            "dtype": "f8"
           },
           "marker": {
            "color": "#636efa",
            "size": {
             "bdata": "BA==",
             "dtype": "i1"
            },
            "sizemode": "area",
            "sizeref": 0.0625
           },
           "mode": "markers",
           "name": "",
           "showlegend": false,
           "subplot": "mapbox",
           "type": "scattermapbox"
          }
         ],
         "name": "2024-07-25"
        },
        {
         "data": [
          {
           "customdata": [
            [
             "2024-08-02"
            ]
           ],
           "hovertemplate": "Last Update=%{customdata[0]}<br>Size=%{marker.size}<br>Latitude=%{lat}<br>Longitude=%{lon}<extra></extra>",
           "lat": {
            "bdata": "PQrXo3BdTcA=",
            "dtype": "f8"
           },
           "legendgroup": "",
           "lon": {
            "bdata": "XI/C9SgcR8A=",
            "dtype": "f8"
           },
           "marker": {
            "color": "#636efa",
            "size": {
             "bdata": "BA==",
             "dtype": "i1"
            },
            "sizemode": "area",
            "sizeref": 0.0625
           },
           "mode": "markers",
           "name": "",
           "showlegend": false,
           "subplot": "mapbox",
           "type": "scattermapbox"
          }
         ],
         "name": "2024-08-02"
        },
        {
         "data": [
          {
           "customdata": [
            [
             "2024-08-08"
            ]
           ],
           "hovertemplate": "Last Update=%{customdata[0]}<br>Size=%{marker.size}<br>Latitude=%{lat}<br>Longitude=%{lon}<extra></extra>",
           "lat": {
            "bdata": "MzMzMzNTTcA=",
            "dtype": "f8"
           },
           "legendgroup": "",
           "lon": {
            "bdata": "exSuR+EaR8A=",
            "dtype": "f8"
           },
           "marker": {
            "color": "#636efa",
            "size": {
             "bdata": "BA==",
             "dtype": "i1"
            },
            "sizemode": "area",
            "sizeref": 0.0625
           },
           "mode": "markers",
           "name": "",
           "showlegend": false,
           "subplot": "mapbox",
           "type": "scattermapbox"
          }
         ],
         "name": "2024-08-08"
        },
        {
         "data": [
          {
           "customdata": [
            [
             "2024-08-15"
            ]
           ],
           "hovertemplate": "Last Update=%{customdata[0]}<br>Size=%{marker.size}<br>Latitude=%{lat}<br>Longitude=%{lon}<extra></extra>",
           "lat": {
            "bdata": "9ihcj8JVTcA=",
            "dtype": "f8"
           },
           "legendgroup": "",
           "lon": {
            "bdata": "ZmZmZmYmR8A=",
            "dtype": "f8"
           },
           "marker": {
            "color": "#636efa",
            "size": {
             "bdata": "BA==",
             "dtype": "i1"
            },
            "sizemode": "area",
            "sizeref": 0.0625
           },
           "mode": "markers",
           "name": "",
           "showlegend": false,
           "subplot": "mapbox",
           "type": "scattermapbox"
          }
         ],
         "name": "2024-08-15"
        },
        {
         "data": [
          {
           "customdata": [
            [
             "2024-08-22"
            ]
           ],
           "hovertemplate": "Last Update=%{customdata[0]}<br>Size=%{marker.size}<br>Latitude=%{lat}<br>Longitude=%{lon}<extra></extra>",
           "lat": {
            "bdata": "XI/C9ShcTcA=",
            "dtype": "f8"
           },
           "legendgroup": "",
           "lon": {
            "bdata": "hetRuB4FR8A=",
            "dtype": "f8"
           },
           "marker": {
            "color": "#636efa",
            "size": {
             "bdata": "BA==",
             "dtype": "i1"
            },
            "sizemode": "area",
            "sizeref": 0.0625
           },
           "mode": "markers",
           "name": "",
           "showlegend": false,
           "subplot": "mapbox",
           "type": "scattermapbox"
          }
         ],
         "name": "2024-08-22"
        },
        {
         "data": [
          {
           "customdata": [
            [
             "2024-08-29"
            ]
           ],
           "hovertemplate": "Last Update=%{customdata[0]}<br>Size=%{marker.size}<br>Latitude=%{lat}<br>Longitude=%{lon}<extra></extra>",
           "lat": {
            "bdata": "pHA9CtdDTcA=",
            "dtype": "f8"
           },
           "legendgroup": "",
           "lon": {
            "bdata": "H4XrUbj+RsA=",
            "dtype": "f8"
           },
           "marker": {
            "color": "#636efa",
            "size": {
             "bdata": "BA==",
             "dtype": "i1"
            },
            "sizemode": "area",
            "sizeref": 0.0625
           },
           "mode": "markers",
           "name": "",
           "showlegend": false,
           "subplot": "mapbox",
           "type": "scattermapbox"
          }
         ],
         "name": "2024-08-29"
        },
        {
         "data": [
          {
           "customdata": [
            [
             "2024-09-06"
            ]
           ],
           "hovertemplate": "Last Update=%{customdata[0]}<br>Size=%{marker.size}<br>Latitude=%{lat}<br>Longitude=%{lon}<extra></extra>",
           "lat": {
            "bdata": "j8L1KFxPTcA=",
            "dtype": "f8"
           },
           "legendgroup": "",
           "lon": {
            "bdata": "rkfhehTuRsA=",
            "dtype": "f8"
           },
           "marker": {
            "color": "#636efa",
            "size": {
             "bdata": "BA==",
             "dtype": "i1"
            },
            "sizemode": "area",
            "sizeref": 0.0625
           },
           "mode": "markers",
           "name": "",
           "showlegend": false,
           "subplot": "mapbox",
           "type": "scattermapbox"
          }
         ],
         "name": "2024-09-06"
        },
        {
         "data": [
          {
           "customdata": [
            [
             "2024-09-13"
            ]
           ],
           "hovertemplate": "Last Update=%{customdata[0]}<br>Size=%{marker.size}<br>Latitude=%{lat}<br>Longitude=%{lon}<extra></extra>",
           "lat": {
            "bdata": "rkfhehQuTcA=",
            "dtype": "f8"
           },
           "legendgroup": "",
           "lon": {
            "bdata": "cT0K16PQRsA=",
            "dtype": "f8"
           },
           "marker": {
            "color": "#636efa",
            "size": {
             "bdata": "BA==",
             "dtype": "i1"
            },
            "sizemode": "area",
            "sizeref": 0.0625
           },
           "mode": "markers",
           "name": "",
           "showlegend": false,
           "subplot": "mapbox",
           "type": "scattermapbox"
          }
         ],
         "name": "2024-09-13"
        },
        {
         "data": [
          {
           "customdata": [
            [
             "2024-09-20"
            ]
           ],
           "hovertemplate": "Last Update=%{customdata[0]}<br>Size=%{marker.size}<br>Latitude=%{lat}<br>Longitude=%{lon}<extra></extra>",
           "lat": {
            "bdata": "PQrXo3A9TcA=",
            "dtype": "f8"
           },
           "legendgroup": "",
           "lon": {
            "bdata": "exSuR+G6RsA=",
            "dtype": "f8"
           },
           "marker": {
            "color": "#636efa",
            "size": {
             "bdata": "BA==",
             "dtype": "i1"
            },
            "sizemode": "area",
            "sizeref": 0.0625
           },
           "mode": "markers",
           "name": "",
           "showlegend": false,
           "subplot": "mapbox",
           "type": "scattermapbox"
          }
         ],
         "name": "2024-09-20"
        },
        {
         "data": [
          {
           "customdata": [
            [
             "2024-09-26"
            ]
           ],
           "hovertemplate": "Last Update=%{customdata[0]}<br>Size=%{marker.size}<br>Latitude=%{lat}<br>Longitude=%{lon}<extra></extra>",
           "lat": {
            "bdata": "CtejcD0qTcA=",
            "dtype": "f8"
           },
           "legendgroup": "",
           "lon": {
            "bdata": "w/UoXI/CRsA=",
            "dtype": "f8"
           },
           "marker": {
            "color": "#636efa",
            "size": {
             "bdata": "BA==",
             "dtype": "i1"
            },
            "sizemode": "area",
            "sizeref": 0.0625
           },
           "mode": "markers",
           "name": "",
           "showlegend": false,
           "subplot": "mapbox",
           "type": "scattermapbox"
          }
         ],
         "name": "2024-09-26"
        },
        {
         "data": [
          {
           "customdata": [
            [
             "2024-10-04"
            ]
           ],
           "hovertemplate": "Last Update=%{customdata[0]}<br>Size=%{marker.size}<br>Latitude=%{lat}<br>Longitude=%{lon}<extra></extra>",
           "lat": {
            "bdata": "ZmZmZmZGTcA=",
            "dtype": "f8"
           },
           "legendgroup": "",
           "lon": {
            "bdata": "H4XrUbj+RsA=",
            "dtype": "f8"
           },
           "marker": {
            "color": "#636efa",
            "size": {
             "bdata": "BA==",
             "dtype": "i1"
            },
            "sizemode": "area",
            "sizeref": 0.0625
           },
           "mode": "markers",
           "name": "",
           "showlegend": false,
           "subplot": "mapbox",
           "type": "scattermapbox"
          }
         ],
         "name": "2024-10-04"
        },
        {
         "data": [
          {
           "customdata": [
            [
             "2024-10-10"
            ]
           ],
           "hovertemplate": "Last Update=%{customdata[0]}<br>Size=%{marker.size}<br>Latitude=%{lat}<br>Longitude=%{lon}<extra></extra>",
           "lat": {
            "bdata": "pHA9CtdjTcA=",
            "dtype": "f8"
           },
           "legendgroup": "",
           "lon": {
            "bdata": "4XoUrkfhRsA=",
            "dtype": "f8"
           },
           "marker": {
            "color": "#636efa",
            "size": {
             "bdata": "BA==",
             "dtype": "i1"
            },
            "sizemode": "area",
            "sizeref": 0.0625
           },
           "mode": "markers",
           "name": "",
           "showlegend": false,
           "subplot": "mapbox",
           "type": "scattermapbox"
          }
         ],
         "name": "2024-10-10"
        },
        {
         "data": [
          {
           "customdata": [
            [
             "2024-10-18"
            ]
           ],
           "hovertemplate": "Last Update=%{customdata[0]}<br>Size=%{marker.size}<br>Latitude=%{lat}<br>Longitude=%{lon}<extra></extra>",
           "lat": {
            "bdata": "exSuR+GaTcA=",
            "dtype": "f8"
           },
           "legendgroup": "",
           "lon": {
            "bdata": "rkfhehTORsA=",
            "dtype": "f8"
           },
           "marker": {
            "color": "#636efa",
            "size": {
             "bdata": "BA==",
             "dtype": "i1"
            },
            "sizemode": "area",
            "sizeref": 0.0625
           },
           "mode": "markers",
           "name": "",
           "showlegend": false,
           "subplot": "mapbox",
           "type": "scattermapbox"
          }
         ],
         "name": "2024-10-18"
        },
        {
         "data": [
          {
           "customdata": [
            [
             "2024-10-25"
            ]
           ],
           "hovertemplate": "Last Update=%{customdata[0]}<br>Size=%{marker.size}<br>Latitude=%{lat}<br>Longitude=%{lon}<extra></extra>",
           "lat": {
            "bdata": "w/UoXI+iTcA=",
            "dtype": "f8"
           },
           "legendgroup": "",
           "lon": {
            "bdata": "FK5H4Xp0RsA=",
            "dtype": "f8"
           },
           "marker": {
            "color": "#636efa",
            "size": {
             "bdata": "BA==",
             "dtype": "i1"
            },
            "sizemode": "area",
            "sizeref": 0.0625
           },
           "mode": "markers",
           "name": "",
           "showlegend": false,
           "subplot": "mapbox",
           "type": "scattermapbox"
          }
         ],
         "name": "2024-10-25"
        },
        {
         "data": [
          {
           "customdata": [
            [
             "2024-10-31"
            ]
           ],
           "hovertemplate": "Last Update=%{customdata[0]}<br>Size=%{marker.size}<br>Latitude=%{lat}<br>Longitude=%{lon}<extra></extra>",
           "lat": {
            "bdata": "FK5H4XqUTcA=",
            "dtype": "f8"
           },
           "legendgroup": "",
           "lon": {
            "bdata": "AAAAAABARsA=",
            "dtype": "f8"
           },
           "marker": {
            "color": "#636efa",
            "size": {
             "bdata": "BA==",
             "dtype": "i1"
            },
            "sizemode": "area",
            "sizeref": 0.0625
           },
           "mode": "markers",
           "name": "",
           "showlegend": false,
           "subplot": "mapbox",
           "type": "scattermapbox"
          }
         ],
         "name": "2024-10-31"
        },
        {
         "data": [
          {
           "customdata": [
            [
             "2024-11-07"
            ]
           ],
           "hovertemplate": "Last Update=%{customdata[0]}<br>Size=%{marker.size}<br>Latitude=%{lat}<br>Longitude=%{lon}<extra></extra>",
           "lat": {
            "bdata": "XI/C9Sh8TcA=",
            "dtype": "f8"
           },
           "legendgroup": "",
           "lon": {
            "bdata": "CtejcD0qRsA=",
            "dtype": "f8"
           },
           "marker": {
            "color": "#636efa",
            "size": {
             "bdata": "BA==",
             "dtype": "i1"
            },
            "sizemode": "area",
            "sizeref": 0.0625
           },
           "mode": "markers",
           "name": "",
           "showlegend": false,
           "subplot": "mapbox",
           "type": "scattermapbox"
          }
         ],
         "name": "2024-11-07"
        },
        {
         "data": [
          {
           "customdata": [
            [
             "2024-11-15"
            ]
           ],
           "hovertemplate": "Last Update=%{customdata[0]}<br>Size=%{marker.size}<br>Latitude=%{lat}<br>Longitude=%{lon}<extra></extra>",
           "lat": {
            "bdata": "ZmZmZmZmTcA=",
            "dtype": "f8"
           },
           "legendgroup": "",
           "lon": {
            "bdata": "H4XrUbgeRsA=",
            "dtype": "f8"
           },
           "marker": {
            "color": "#636efa",
            "size": {
             "bdata": "BA==",
             "dtype": "i1"
            },
            "sizemode": "area",
            "sizeref": 0.0625
           },
           "mode": "markers",
           "name": "",
           "showlegend": false,
           "subplot": "mapbox",
           "type": "scattermapbox"
          }
         ],
         "name": "2024-11-15"
        },
        {
         "data": [
          {
           "customdata": [
            [
             "2024-11-21"
            ]
           ],
           "hovertemplate": "Last Update=%{customdata[0]}<br>Size=%{marker.size}<br>Latitude=%{lat}<br>Longitude=%{lon}<extra></extra>",
           "lat": {
            "bdata": "UrgehetRTcA=",
            "dtype": "f8"
           },
           "legendgroup": "",
           "lon": {
            "bdata": "hetRuB4FRsA=",
            "dtype": "f8"
           },
           "marker": {
            "color": "#636efa",
            "size": {
             "bdata": "BA==",
             "dtype": "i1"
            },
            "sizemode": "area",
            "sizeref": 0.0625
           },
           "mode": "markers",
           "name": "",
           "showlegend": false,
           "subplot": "mapbox",
           "type": "scattermapbox"
          }
         ],
         "name": "2024-11-21"
        },
        {
         "data": [
          {
           "customdata": [
            [
             "2024-11-28"
            ]
           ],
           "hovertemplate": "Last Update=%{customdata[0]}<br>Size=%{marker.size}<br>Latitude=%{lat}<br>Longitude=%{lon}<extra></extra>",
           "lat": {
            "bdata": "SOF6FK4nTcA=",
            "dtype": "f8"
           },
           "legendgroup": "",
           "lon": {
            "bdata": "SOF6FK7nRcA=",
            "dtype": "f8"
           },
           "marker": {
            "color": "#636efa",
            "size": {
             "bdata": "BA==",
             "dtype": "i1"
            },
            "sizemode": "area",
            "sizeref": 0.0625
           },
           "mode": "markers",
           "name": "",
           "showlegend": false,
           "subplot": "mapbox",
           "type": "scattermapbox"
          }
         ],
         "name": "2024-11-28"
        },
        {
         "data": [
          {
           "customdata": [
            [
             "2024-12-06"
            ]
           ],
           "hovertemplate": "Last Update=%{customdata[0]}<br>Size=%{marker.size}<br>Latitude=%{lat}<br>Longitude=%{lon}<extra></extra>",
           "lat": {
            "bdata": "MzMzMzPTTMA=",
            "dtype": "f8"
           },
           "legendgroup": "",
           "lon": {
            "bdata": "KVyPwvWoRcA=",
            "dtype": "f8"
           },
           "marker": {
            "color": "#636efa",
            "size": {
             "bdata": "BA==",
             "dtype": "i1"
            },
            "sizemode": "area",
            "sizeref": 0.0625
           },
           "mode": "markers",
           "name": "",
           "showlegend": false,
           "subplot": "mapbox",
           "type": "scattermapbox"
          }
         ],
         "name": "2024-12-06"
        },
        {
         "data": [
          {
           "customdata": [
            [
             "2024-12-13"
            ]
           ],
           "hovertemplate": "Last Update=%{customdata[0]}<br>Size=%{marker.size}<br>Latitude=%{lat}<br>Longitude=%{lon}<extra></extra>",
           "lat": {
            "bdata": "j8L1KFyvTMA=",
            "dtype": "f8"
           },
           "legendgroup": "",
           "lon": {
            "bdata": "j8L1KFwPRcA=",
            "dtype": "f8"
           },
           "marker": {
            "color": "#636efa",
            "size": {
             "bdata": "BA==",
             "dtype": "i1"
            },
            "sizemode": "area",
            "sizeref": 0.0625
           },
           "mode": "markers",
           "name": "",
           "showlegend": false,
           "subplot": "mapbox",
           "type": "scattermapbox"
          }
         ],
         "name": "2024-12-13"
        },
        {
         "data": [
          {
           "customdata": [
            [
             "2024-12-20"
            ]
           ],
           "hovertemplate": "Last Update=%{customdata[0]}<br>Size=%{marker.size}<br>Latitude=%{lat}<br>Longitude=%{lon}<extra></extra>",
           "lat": {
            "bdata": "j8L1KFyvTMA=",
            "dtype": "f8"
           },
           "legendgroup": "",
           "lon": {
            "bdata": "exSuR+E6RMA=",
            "dtype": "f8"
           },
           "marker": {
            "color": "#636efa",
            "size": {
             "bdata": "BA==",
             "dtype": "i1"
            },
            "sizemode": "area",
            "sizeref": 0.0625
           },
           "mode": "markers",
           "name": "",
           "showlegend": false,
           "subplot": "mapbox",
           "type": "scattermapbox"
          }
         ],
         "name": "2024-12-20"
        },
        {
         "data": [
          {
           "customdata": [
            [
             "2024-12-26"
            ]
           ],
           "hovertemplate": "Last Update=%{customdata[0]}<br>Size=%{marker.size}<br>Latitude=%{lat}<br>Longitude=%{lon}<extra></extra>",
           "lat": {
            "bdata": "uB6F61G4TMA=",
            "dtype": "f8"
           },
           "legendgroup": "",
           "lon": {
            "bdata": "4XoUrkchRMA=",
            "dtype": "f8"
           },
           "marker": {
            "color": "#636efa",
            "size": {
             "bdata": "BA==",
             "dtype": "i1"
            },
            "sizemode": "area",
            "sizeref": 0.0625
           },
           "mode": "markers",
           "name": "",
           "showlegend": false,
           "subplot": "mapbox",
           "type": "scattermapbox"
          }
         ],
         "name": "2024-12-26"
        },
        {
         "data": [
          {
           "customdata": [
            [
             "2025-01-02"
            ]
           ],
           "hovertemplate": "Last Update=%{customdata[0]}<br>Size=%{marker.size}<br>Latitude=%{lat}<br>Longitude=%{lon}<extra></extra>",
           "lat": {
            "bdata": "H4XrUbjeTMA=",
            "dtype": "f8"
           },
           "legendgroup": "",
           "lon": {
            "bdata": "SOF6FK7HQ8A=",
            "dtype": "f8"
           },
           "marker": {
            "color": "#636efa",
            "size": {
             "bdata": "BA==",
             "dtype": "i1"
            },
            "sizemode": "area",
            "sizeref": 0.0625
           },
           "mode": "markers",
           "name": "",
           "showlegend": false,
           "subplot": "mapbox",
           "type": "scattermapbox"
          }
         ],
         "name": "2025-01-02"
        },
        {
         "data": [
          {
           "customdata": [
            [
             "2025-01-10"
            ]
           ],
           "hovertemplate": "Last Update=%{customdata[0]}<br>Size=%{marker.size}<br>Latitude=%{lat}<br>Longitude=%{lon}<extra></extra>",
           "lat": {
            "bdata": "exSuR+G6TMA=",
            "dtype": "f8"
           },
           "legendgroup": "",
           "lon": {
            "bdata": "cT0K16NQQ8A=",
            "dtype": "f8"
           },
           "marker": {
            "color": "#636efa",
            "size": {
             "bdata": "BA==",
             "dtype": "i1"
            },
            "sizemode": "area",
            "sizeref": 0.0625
           },
           "mode": "markers",
           "name": "",
           "showlegend": false,
           "subplot": "mapbox",
           "type": "scattermapbox"
          }
         ],
         "name": "2025-01-10"
        },
        {
         "data": [
          {
           "customdata": [
            [
             "2025-01-16"
            ]
           ],
           "hovertemplate": "Last Update=%{customdata[0]}<br>Size=%{marker.size}<br>Latitude=%{lat}<br>Longitude=%{lon}<extra></extra>",
           "lat": {
            "bdata": "MzMzMzOTTMA=",
            "dtype": "f8"
           },
           "legendgroup": "",
           "lon": {
            "bdata": "AAAAAABAQ8A=",
            "dtype": "f8"
           },
           "marker": {
            "color": "#636efa",
            "size": {
             "bdata": "BA==",
             "dtype": "i1"
            },
            "sizemode": "area",
            "sizeref": 0.0625
           },
           "mode": "markers",
           "name": "",
           "showlegend": false,
           "subplot": "mapbox",
           "type": "scattermapbox"
          }
         ],
         "name": "2025-01-16"
        },
        {
         "data": [
          {
           "customdata": [
            [
             "2025-01-23"
            ]
           ],
           "hovertemplate": "Last Update=%{customdata[0]}<br>Size=%{marker.size}<br>Latitude=%{lat}<br>Longitude=%{lon}<extra></extra>",
           "lat": {
            "bdata": "cT0K16NwTMA=",
            "dtype": "f8"
           },
           "legendgroup": "",
           "lon": {
            "bdata": "7FG4HoWrQ8A=",
            "dtype": "f8"
           },
           "marker": {
            "color": "#636efa",
            "size": {
             "bdata": "BA==",
             "dtype": "i1"
            },
            "sizemode": "area",
            "sizeref": 0.0625
           },
           "mode": "markers",
           "name": "",
           "showlegend": false,
           "subplot": "mapbox",
           "type": "scattermapbox"
          }
         ],
         "name": "2025-01-23"
        },
        {
         "data": [
          {
           "customdata": [
            [
             "2025-01-31"
            ]
           ],
           "hovertemplate": "Last Update=%{customdata[0]}<br>Size=%{marker.size}<br>Latitude=%{lat}<br>Longitude=%{lon}<extra></extra>",
           "lat": {
            "bdata": "hetRuB5lTMA=",
            "dtype": "f8"
           },
           "legendgroup": "",
           "lon": {
            "bdata": "SOF6FK4nRMA=",
            "dtype": "f8"
           },
           "marker": {
            "color": "#636efa",
            "size": {
             "bdata": "BA==",
             "dtype": "i1"
            },
            "sizemode": "area",
            "sizeref": 0.0625
           },
           "mode": "markers",
           "name": "",
           "showlegend": false,
           "subplot": "mapbox",
           "type": "scattermapbox"
          }
         ],
         "name": "2025-01-31"
        },
        {
         "data": [
          {
           "customdata": [
            [
             "2025-02-06"
            ]
           ],
           "hovertemplate": "Last Update=%{customdata[0]}<br>Size=%{marker.size}<br>Latitude=%{lat}<br>Longitude=%{lon}<extra></extra>",
           "lat": {
            "bdata": "9ihcj8JVTMA=",
            "dtype": "f8"
           },
           "legendgroup": "",
           "lon": {
            "bdata": "9ihcj8J1RMA=",
            "dtype": "f8"
           },
           "marker": {
            "color": "#636efa",
            "size": {
             "bdata": "BA==",
             "dtype": "i1"
            },
            "sizemode": "area",
            "sizeref": 0.0625
           },
           "mode": "markers",
           "name": "",
           "showlegend": false,
           "subplot": "mapbox",
           "type": "scattermapbox"
          }
         ],
         "name": "2025-02-06"
        },
        {
         "data": [
          {
           "customdata": [
            [
             "2025-02-14"
            ]
           ],
           "hovertemplate": "Last Update=%{customdata[0]}<br>Size=%{marker.size}<br>Latitude=%{lat}<br>Longitude=%{lon}<extra></extra>",
           "lat": {
            "bdata": "mpmZmZk5TMA=",
            "dtype": "f8"
           },
           "legendgroup": "",
           "lon": {
            "bdata": "9ihcj8J1RMA=",
            "dtype": "f8"
           },
           "marker": {
            "color": "#636efa",
            "size": {
             "bdata": "BA==",
             "dtype": "i1"
            },
            "sizemode": "area",
            "sizeref": 0.0625
           },
           "mode": "markers",
           "name": "",
           "showlegend": false,
           "subplot": "mapbox",
           "type": "scattermapbox"
          }
         ],
         "name": "2025-02-14"
        },
        {
         "data": [
          {
           "customdata": [
            [
             "2025-02-21"
            ]
           ],
           "hovertemplate": "Last Update=%{customdata[0]}<br>Size=%{marker.size}<br>Latitude=%{lat}<br>Longitude=%{lon}<extra></extra>",
           "lat": {
            "bdata": "MzMzMzPTS8A=",
            "dtype": "f8"
           },
           "legendgroup": "",
           "lon": {
            "bdata": "cT0K16MwRMA=",
            "dtype": "f8"
           },
           "marker": {
            "color": "#636efa",
            "size": {
             "bdata": "BA==",
             "dtype": "i1"
            },
            "sizemode": "area",
            "sizeref": 0.0625
           },
           "mode": "markers",
           "name": "",
           "showlegend": false,
           "subplot": "mapbox",
           "type": "scattermapbox"
          }
         ],
         "name": "2025-02-21"
        },
        {
         "data": [
          {
           "customdata": [
            [
             "2025-02-28"
            ]
           ],
           "hovertemplate": "Last Update=%{customdata[0]}<br>Size=%{marker.size}<br>Latitude=%{lat}<br>Longitude=%{lon}<extra></extra>",
           "lat": {
            "bdata": "pHA9CtdjS8A=",
            "dtype": "f8"
           },
           "legendgroup": "",
           "lon": {
            "bdata": "cT0K16OQQ8A=",
            "dtype": "f8"
           },
           "marker": {
            "color": "#636efa",
            "size": {
             "bdata": "BA==",
             "dtype": "i1"
            },
            "sizemode": "area",
            "sizeref": 0.0625
           },
           "mode": "markers",
           "name": "",
           "showlegend": false,
           "subplot": "mapbox",
           "type": "scattermapbox"
          }
         ],
         "name": "2025-02-28"
        },
        {
         "data": [
          {
           "customdata": [
            [
             "2025-03-06"
            ]
           ],
           "hovertemplate": "Last Update=%{customdata[0]}<br>Size=%{marker.size}<br>Latitude=%{lat}<br>Longitude=%{lon}<extra></extra>",
           "lat": {
            "bdata": "SOF6FK5nS8A=",
            "dtype": "f8"
           },
           "legendgroup": "",
           "lon": {
            "bdata": "7FG4HoWLQ8A=",
            "dtype": "f8"
           },
           "marker": {
            "color": "#636efa",
            "size": {
             "bdata": "BA==",
             "dtype": "i1"
            },
            "sizemode": "area",
            "sizeref": 0.0625
           },
           "mode": "markers",
           "name": "",
           "showlegend": false,
           "subplot": "mapbox",
           "type": "scattermapbox"
          }
         ],
         "name": "2025-03-06"
        },
        {
         "data": [
          {
           "customdata": [
            [
             "2025-03-13"
            ]
           ],
           "hovertemplate": "Last Update=%{customdata[0]}<br>Size=%{marker.size}<br>Latitude=%{lat}<br>Longitude=%{lon}<extra></extra>",
           "lat": {
            "bdata": "SOF6FK5nS8A=",
            "dtype": "f8"
           },
           "legendgroup": "",
           "lon": {
            "bdata": "7FG4HoWLQ8A=",
            "dtype": "f8"
           },
           "marker": {
            "color": "#636efa",
            "size": {
             "bdata": "BA==",
             "dtype": "i1"
            },
            "sizemode": "area",
            "sizeref": 0.0625
           },
           "mode": "markers",
           "name": "",
           "showlegend": false,
           "subplot": "mapbox",
           "type": "scattermapbox"
          }
         ],
         "name": "2025-03-13"
        },
        {
         "data": [
          {
           "customdata": [
            [
             "2025-03-21"
            ]
           ],
           "hovertemplate": "Last Update=%{customdata[0]}<br>Size=%{marker.size}<br>Latitude=%{lat}<br>Longitude=%{lon}<extra></extra>",
           "lat": {
            "bdata": "SOF6FK5nS8A=",
            "dtype": "f8"
           },
           "legendgroup": "",
           "lon": {
            "bdata": "KVyPwvWIQ8A=",
            "dtype": "f8"
           },
           "marker": {
            "color": "#636efa",
            "size": {
             "bdata": "BA==",
             "dtype": "i1"
            },
            "sizemode": "area",
            "sizeref": 0.0625
           },
           "mode": "markers",
           "name": "",
           "showlegend": false,
           "subplot": "mapbox",
           "type": "scattermapbox"
          }
         ],
         "name": "2025-03-21"
        },
        {
         "data": [
          {
           "customdata": [
            [
             "2025-03-27"
            ]
           ],
           "hovertemplate": "Last Update=%{customdata[0]}<br>Size=%{marker.size}<br>Latitude=%{lat}<br>Longitude=%{lon}<extra></extra>",
           "lat": {
            "bdata": "SOF6FK5nS8A=",
            "dtype": "f8"
           },
           "legendgroup": "",
           "lon": {
            "bdata": "KVyPwvWIQ8A=",
            "dtype": "f8"
           },
           "marker": {
            "color": "#636efa",
            "size": {
             "bdata": "BA==",
             "dtype": "i1"
            },
            "sizemode": "area",
            "sizeref": 0.0625
           },
           "mode": "markers",
           "name": "",
           "showlegend": false,
           "subplot": "mapbox",
           "type": "scattermapbox"
          }
         ],
         "name": "2025-03-27"
        },
        {
         "data": [
          {
           "customdata": [
            [
             "2025-04-04"
            ]
           ],
           "hovertemplate": "Last Update=%{customdata[0]}<br>Size=%{marker.size}<br>Latitude=%{lat}<br>Longitude=%{lon}<extra></extra>",
           "lat": {
            "bdata": "SOF6FK5nS8A=",
            "dtype": "f8"
           },
           "legendgroup": "",
           "lon": {
            "bdata": "CtejcD2KQ8A=",
            "dtype": "f8"
           },
           "marker": {
            "color": "#636efa",
            "size": {
             "bdata": "BA==",
             "dtype": "i1"
            },
            "sizemode": "area",
            "sizeref": 0.0625
           },
           "mode": "markers",
           "name": "",
           "showlegend": false,
           "subplot": "mapbox",
           "type": "scattermapbox"
          }
         ],
         "name": "2025-04-04"
        },
        {
         "data": [
          {
           "customdata": [
            [
             "2025-04-11"
            ]
           ],
           "hovertemplate": "Last Update=%{customdata[0]}<br>Size=%{marker.size}<br>Latitude=%{lat}<br>Longitude=%{lon}<extra></extra>",
           "lat": {
            "bdata": "SOF6FK5nS8A=",
            "dtype": "f8"
           },
           "legendgroup": "",
           "lon": {
            "bdata": "CtejcD2KQ8A=",
            "dtype": "f8"
           },
           "marker": {
            "color": "#636efa",
            "size": {
             "bdata": "BA==",
             "dtype": "i1"
            },
            "sizemode": "area",
            "sizeref": 0.0625
           },
           "mode": "markers",
           "name": "",
           "showlegend": false,
           "subplot": "mapbox",
           "type": "scattermapbox"
          }
         ],
         "name": "2025-04-11"
        },
        {
         "data": [
          {
           "customdata": [
            [
             "2025-04-18"
            ]
           ],
           "hovertemplate": "Last Update=%{customdata[0]}<br>Size=%{marker.size}<br>Latitude=%{lat}<br>Longitude=%{lon}<extra></extra>",
           "lat": {
            "bdata": "ZmZmZmZmS8A=",
            "dtype": "f8"
           },
           "legendgroup": "",
           "lon": {
            "bdata": "ZmZmZmaGQ8A=",
            "dtype": "f8"
           },
           "marker": {
            "color": "#636efa",
            "size": {
             "bdata": "BA==",
             "dtype": "i1"
            },
            "sizemode": "area",
            "sizeref": 0.0625
           },
           "mode": "markers",
           "name": "",
           "showlegend": false,
           "subplot": "mapbox",
           "type": "scattermapbox"
          }
         ],
         "name": "2025-04-18"
        },
        {
         "data": [
          {
           "customdata": [
            [
             "2025-04-24"
            ]
           ],
           "hovertemplate": "Last Update=%{customdata[0]}<br>Size=%{marker.size}<br>Latitude=%{lat}<br>Longitude=%{lon}<extra></extra>",
           "lat": {
            "bdata": "ZmZmZmZmS8A=",
            "dtype": "f8"
           },
           "legendgroup": "",
           "lon": {
            "bdata": "ZmZmZmaGQ8A=",
            "dtype": "f8"
           },
           "marker": {
            "color": "#636efa",
            "size": {
             "bdata": "BA==",
             "dtype": "i1"
            },
            "sizemode": "area",
            "sizeref": 0.0625
           },
           "mode": "markers",
           "name": "",
           "showlegend": false,
           "subplot": "mapbox",
           "type": "scattermapbox"
          }
         ],
         "name": "2025-04-24"
        },
        {
         "data": [
          {
           "customdata": [
            [
             "2025-05-02"
            ]
           ],
           "hovertemplate": "Last Update=%{customdata[0]}<br>Size=%{marker.size}<br>Latitude=%{lat}<br>Longitude=%{lon}<extra></extra>",
           "lat": {
            "bdata": "ZmZmZmZmS8A=",
            "dtype": "f8"
           },
           "legendgroup": "",
           "lon": {
            "bdata": "ZmZmZmaGQ8A=",
            "dtype": "f8"
           },
           "marker": {
            "color": "#636efa",
            "size": {
             "bdata": "BA==",
             "dtype": "i1"
            },
            "sizemode": "area",
            "sizeref": 0.0625
           },
           "mode": "markers",
           "name": "",
           "showlegend": false,
           "subplot": "mapbox",
           "type": "scattermapbox"
          }
         ],
         "name": "2025-05-02"
        },
        {
         "data": [
          {
           "customdata": [
            [
             "2025-05-09"
            ]
           ],
           "hovertemplate": "Last Update=%{customdata[0]}<br>Size=%{marker.size}<br>Latitude=%{lat}<br>Longitude=%{lon}<extra></extra>",
           "lat": {
            "bdata": "ZmZmZmZmS8A=",
            "dtype": "f8"
           },
           "legendgroup": "",
           "lon": {
            "bdata": "ZmZmZmaGQ8A=",
            "dtype": "f8"
           },
           "marker": {
            "color": "#636efa",
            "size": {
             "bdata": "BA==",
             "dtype": "i1"
            },
            "sizemode": "area",
            "sizeref": 0.0625
           },
           "mode": "markers",
           "name": "",
           "showlegend": false,
           "subplot": "mapbox",
           "type": "scattermapbox"
          }
         ],
         "name": "2025-05-09"
        },
        {
         "data": [
          {
           "customdata": [
            [
             "2025-05-16"
            ]
           ],
           "hovertemplate": "Last Update=%{customdata[0]}<br>Size=%{marker.size}<br>Latitude=%{lat}<br>Longitude=%{lon}<extra></extra>",
           "lat": {
            "bdata": "ZmZmZmZmS8A=",
            "dtype": "f8"
           },
           "legendgroup": "",
           "lon": {
            "bdata": "ZmZmZmaGQ8A=",
            "dtype": "f8"
           },
           "marker": {
            "color": "#636efa",
            "size": {
             "bdata": "BA==",
             "dtype": "i1"
            },
            "sizemode": "area",
            "sizeref": 0.0625
           },
           "mode": "markers",
           "name": "",
           "showlegend": false,
           "subplot": "mapbox",
           "type": "scattermapbox"
          }
         ],
         "name": "2025-05-16"
        },
        {
         "data": [
          {
           "customdata": [
            [
             "2025-05-22"
            ]
           ],
           "hovertemplate": "Last Update=%{customdata[0]}<br>Size=%{marker.size}<br>Latitude=%{lat}<br>Longitude=%{lon}<extra></extra>",
           "lat": {
            "bdata": "ZmZmZmZmS8A=",
            "dtype": "f8"
           },
           "legendgroup": "",
           "lon": {
            "bdata": "ZmZmZmaGQ8A=",
            "dtype": "f8"
           },
           "marker": {
            "color": "#636efa",
            "size": {
             "bdata": "BA==",
             "dtype": "i1"
            },
            "sizemode": "area",
            "sizeref": 0.0625
           },
           "mode": "markers",
           "name": "",
           "showlegend": false,
           "subplot": "mapbox",
           "type": "scattermapbox"
          }
         ],
         "name": "2025-05-22"
        },
        {
         "data": [
          {
           "customdata": [
            [
             "2025-05-29"
            ]
           ],
           "hovertemplate": "Last Update=%{customdata[0]}<br>Size=%{marker.size}<br>Latitude=%{lat}<br>Longitude=%{lon}<extra></extra>",
           "lat": {
            "bdata": "ZmZmZmZmS8A=",
            "dtype": "f8"
           },
           "legendgroup": "",
           "lon": {
            "bdata": "ZmZmZmaGQ8A=",
            "dtype": "f8"
           },
           "marker": {
            "color": "#636efa",
            "size": {
             "bdata": "BA==",
             "dtype": "i1"
            },
            "sizemode": "area",
            "sizeref": 0.0625
           },
           "mode": "markers",
           "name": "",
           "showlegend": false,
           "subplot": "mapbox",
           "type": "scattermapbox"
          }
         ],
         "name": "2025-05-29"
        },
        {
         "data": [
          {
           "customdata": [
            [
             "2025-06-05"
            ]
           ],
           "hovertemplate": "Last Update=%{customdata[0]}<br>Size=%{marker.size}<br>Latitude=%{lat}<br>Longitude=%{lon}<extra></extra>",
           "lat": {
            "bdata": "UrgeheuxS8A=",
            "dtype": "f8"
           },
           "legendgroup": "",
           "lon": {
            "bdata": "w/UoXI/iQsA=",
            "dtype": "f8"
           },
           "marker": {
            "color": "#636efa",
            "size": {
             "bdata": "BA==",
             "dtype": "i1"
            },
            "sizemode": "area",
            "sizeref": 0.0625
           },
           "mode": "markers",
           "name": "",
           "showlegend": false,
           "subplot": "mapbox",
           "type": "scattermapbox"
          }
         ],
         "name": "2025-06-05"
        },
        {
         "data": [
          {
           "customdata": [
            [
             "2025-06-12"
            ]
           ],
           "hovertemplate": "Last Update=%{customdata[0]}<br>Size=%{marker.size}<br>Latitude=%{lat}<br>Longitude=%{lon}<extra></extra>",
           "lat": {
            "bdata": "rkfhehQuTMA=",
            "dtype": "f8"
           },
           "legendgroup": "",
           "lon": {
            "bdata": "w/UoXI9CQsA=",
            "dtype": "f8"
           },
           "marker": {
            "color": "#636efa",
            "size": {
             "bdata": "BA==",
             "dtype": "i1"
            },
            "sizemode": "area",
            "sizeref": 0.0625
           },
           "mode": "markers",
           "name": "",
           "showlegend": false,
           "subplot": "mapbox",
           "type": "scattermapbox"
          }
         ],
         "name": "2025-06-12"
        },
        {
         "data": [
          {
           "customdata": [
            [
             "2025-06-20"
            ]
           ],
           "hovertemplate": "Last Update=%{customdata[0]}<br>Size=%{marker.size}<br>Latitude=%{lat}<br>Longitude=%{lon}<extra></extra>",
           "lat": {
            "bdata": "H4XrUbheTMA=",
            "dtype": "f8"
           },
           "legendgroup": "",
           "lon": {
            "bdata": "mpmZmZmZQcA=",
            "dtype": "f8"
           },
           "marker": {
            "color": "#636efa",
            "size": {
             "bdata": "BA==",
             "dtype": "i1"
            },
            "sizemode": "area",
            "sizeref": 0.0625
           },
           "mode": "markers",
           "name": "",
           "showlegend": false,
           "subplot": "mapbox",
           "type": "scattermapbox"
          }
         ],
         "name": "2025-06-20"
        }
       ],
       "layout": {
        "height": 600,
        "legend": {
         "itemsizing": "constant",
         "tracegroupgap": 0
        },
        "mapbox": {
         "center": {
          "lat": -62.15361538461538,
          "lon": -47.3766923076923
         },
         "domain": {
          "x": [
           0,
           1
          ],
          "y": [
           0,
           1
          ]
         },
         "style": "open-street-map",
         "zoom": 2
        },
        "margin": {
         "b": 0,
         "l": 0,
         "r": 0,
         "t": 40
        },
        "sliders": [
         {
          "active": 0,
          "currentvalue": {
           "prefix": "Last Update="
          },
          "len": 0.9,
          "pad": {
           "b": 10,
           "t": 60
          },
          "steps": [
           {
            "args": [
             [
              "2023-01-06"
             ],
             {
              "frame": {
               "duration": 0,
               "redraw": true
              },
              "fromcurrent": true,
              "mode": "immediate",
              "transition": {
               "duration": 0,
               "easing": "linear"
              }
             }
            ],
            "label": "2023-01-06",
            "method": "animate"
           },
           {
            "args": [
             [
              "2023-01-13"
             ],
             {
              "frame": {
               "duration": 0,
               "redraw": true
              },
              "fromcurrent": true,
              "mode": "immediate",
              "transition": {
               "duration": 0,
               "easing": "linear"
              }
             }
            ],
            "label": "2023-01-13",
            "method": "animate"
           },
           {
            "args": [
             [
              "2023-01-20"
             ],
             {
              "frame": {
               "duration": 0,
               "redraw": true
              },
              "fromcurrent": true,
              "mode": "immediate",
              "transition": {
               "duration": 0,
               "easing": "linear"
              }
             }
            ],
            "label": "2023-01-20",
            "method": "animate"
           },
           {
            "args": [
             [
              "2023-01-27"
             ],
             {
              "frame": {
               "duration": 0,
               "redraw": true
              },
              "fromcurrent": true,
              "mode": "immediate",
              "transition": {
               "duration": 0,
               "easing": "linear"
              }
             }
            ],
            "label": "2023-01-27",
            "method": "animate"
           },
           {
            "args": [
             [
              "2023-02-03"
             ],
             {
              "frame": {
               "duration": 0,
               "redraw": true
              },
              "fromcurrent": true,
              "mode": "immediate",
              "transition": {
               "duration": 0,
               "easing": "linear"
              }
             }
            ],
            "label": "2023-02-03",
            "method": "animate"
           },
           {
            "args": [
             [
              "2023-02-10"
             ],
             {
              "frame": {
               "duration": 0,
               "redraw": true
              },
              "fromcurrent": true,
              "mode": "immediate",
              "transition": {
               "duration": 0,
               "easing": "linear"
              }
             }
            ],
            "label": "2023-02-10",
            "method": "animate"
           },
           {
            "args": [
             [
              "2023-02-17"
             ],
             {
              "frame": {
               "duration": 0,
               "redraw": true
              },
              "fromcurrent": true,
              "mode": "immediate",
              "transition": {
               "duration": 0,
               "easing": "linear"
              }
             }
            ],
            "label": "2023-02-17",
            "method": "animate"
           },
           {
            "args": [
             [
              "2023-02-24"
             ],
             {
              "frame": {
               "duration": 0,
               "redraw": true
              },
              "fromcurrent": true,
              "mode": "immediate",
              "transition": {
               "duration": 0,
               "easing": "linear"
              }
             }
            ],
            "label": "2023-02-24",
            "method": "animate"
           },
           {
            "args": [
             [
              "2023-03-03"
             ],
             {
              "frame": {
               "duration": 0,
               "redraw": true
              },
              "fromcurrent": true,
              "mode": "immediate",
              "transition": {
               "duration": 0,
               "easing": "linear"
              }
             }
            ],
            "label": "2023-03-03",
            "method": "animate"
           },
           {
            "args": [
             [
              "2023-03-10"
             ],
             {
              "frame": {
               "duration": 0,
               "redraw": true
              },
              "fromcurrent": true,
              "mode": "immediate",
              "transition": {
               "duration": 0,
               "easing": "linear"
              }
             }
            ],
            "label": "2023-03-10",
            "method": "animate"
           },
           {
            "args": [
             [
              "2023-03-17"
             ],
             {
              "frame": {
               "duration": 0,
               "redraw": true
              },
              "fromcurrent": true,
              "mode": "immediate",
              "transition": {
               "duration": 0,
               "easing": "linear"
              }
             }
            ],
            "label": "2023-03-17",
            "method": "animate"
           },
           {
            "args": [
             [
              "2023-03-24"
             ],
             {
              "frame": {
               "duration": 0,
               "redraw": true
              },
              "fromcurrent": true,
              "mode": "immediate",
              "transition": {
               "duration": 0,
               "easing": "linear"
              }
             }
            ],
            "label": "2023-03-24",
            "method": "animate"
           },
           {
            "args": [
             [
              "2023-03-31"
             ],
             {
              "frame": {
               "duration": 0,
               "redraw": true
              },
              "fromcurrent": true,
              "mode": "immediate",
              "transition": {
               "duration": 0,
               "easing": "linear"
              }
             }
            ],
            "label": "2023-03-31",
            "method": "animate"
           },
           {
            "args": [
             [
              "2023-04-07"
             ],
             {
              "frame": {
               "duration": 0,
               "redraw": true
              },
              "fromcurrent": true,
              "mode": "immediate",
              "transition": {
               "duration": 0,
               "easing": "linear"
              }
             }
            ],
            "label": "2023-04-07",
            "method": "animate"
           },
           {
            "args": [
             [
              "2023-04-14"
             ],
             {
              "frame": {
               "duration": 0,
               "redraw": true
              },
              "fromcurrent": true,
              "mode": "immediate",
              "transition": {
               "duration": 0,
               "easing": "linear"
              }
             }
            ],
            "label": "2023-04-14",
            "method": "animate"
           },
           {
            "args": [
             [
              "2023-04-21"
             ],
             {
              "frame": {
               "duration": 0,
               "redraw": true
              },
              "fromcurrent": true,
              "mode": "immediate",
              "transition": {
               "duration": 0,
               "easing": "linear"
              }
             }
            ],
            "label": "2023-04-21",
            "method": "animate"
           },
           {
            "args": [
             [
              "2023-04-28"
             ],
             {
              "frame": {
               "duration": 0,
               "redraw": true
              },
              "fromcurrent": true,
              "mode": "immediate",
              "transition": {
               "duration": 0,
               "easing": "linear"
              }
             }
            ],
            "label": "2023-04-28",
            "method": "animate"
           },
           {
            "args": [
             [
              "2023-05-05"
             ],
             {
              "frame": {
               "duration": 0,
               "redraw": true
              },
              "fromcurrent": true,
              "mode": "immediate",
              "transition": {
               "duration": 0,
               "easing": "linear"
              }
             }
            ],
            "label": "2023-05-05",
            "method": "animate"
           },
           {
            "args": [
             [
              "2023-05-12"
             ],
             {
              "frame": {
               "duration": 0,
               "redraw": true
              },
              "fromcurrent": true,
              "mode": "immediate",
              "transition": {
               "duration": 0,
               "easing": "linear"
              }
             }
            ],
            "label": "2023-05-12",
            "method": "animate"
           },
           {
            "args": [
             [
              "2023-05-19"
             ],
             {
              "frame": {
               "duration": 0,
               "redraw": true
              },
              "fromcurrent": true,
              "mode": "immediate",
              "transition": {
               "duration": 0,
               "easing": "linear"
              }
             }
            ],
            "label": "2023-05-19",
            "method": "animate"
           },
           {
            "args": [
             [
              "2023-05-26"
             ],
             {
              "frame": {
               "duration": 0,
               "redraw": true
              },
              "fromcurrent": true,
              "mode": "immediate",
              "transition": {
               "duration": 0,
               "easing": "linear"
              }
             }
            ],
            "label": "2023-05-26",
            "method": "animate"
           },
           {
            "args": [
             [
              "2023-06-02"
             ],
             {
              "frame": {
               "duration": 0,
               "redraw": true
              },
              "fromcurrent": true,
              "mode": "immediate",
              "transition": {
               "duration": 0,
               "easing": "linear"
              }
             }
            ],
            "label": "2023-06-02",
            "method": "animate"
           },
           {
            "args": [
             [
              "2023-06-09"
             ],
             {
              "frame": {
               "duration": 0,
               "redraw": true
              },
              "fromcurrent": true,
              "mode": "immediate",
              "transition": {
               "duration": 0,
               "easing": "linear"
              }
             }
            ],
            "label": "2023-06-09",
            "method": "animate"
           },
           {
            "args": [
             [
              "2023-06-15"
             ],
             {
              "frame": {
               "duration": 0,
               "redraw": true
              },
              "fromcurrent": true,
              "mode": "immediate",
              "transition": {
               "duration": 0,
               "easing": "linear"
              }
             }
            ],
            "label": "2023-06-15",
            "method": "animate"
           },
           {
            "args": [
             [
              "2023-06-23"
             ],
             {
              "frame": {
               "duration": 0,
               "redraw": true
              },
              "fromcurrent": true,
              "mode": "immediate",
              "transition": {
               "duration": 0,
               "easing": "linear"
              }
             }
            ],
            "label": "2023-06-23",
            "method": "animate"
           },
           {
            "args": [
             [
              "2023-06-24"
             ],
             {
              "frame": {
               "duration": 0,
               "redraw": true
              },
              "fromcurrent": true,
              "mode": "immediate",
              "transition": {
               "duration": 0,
               "easing": "linear"
              }
             }
            ],
            "label": "2023-06-24",
            "method": "animate"
           },
           {
            "args": [
             [
              "2023-06-30"
             ],
             {
              "frame": {
               "duration": 0,
               "redraw": true
              },
              "fromcurrent": true,
              "mode": "immediate",
              "transition": {
               "duration": 0,
               "easing": "linear"
              }
             }
            ],
            "label": "2023-06-30",
            "method": "animate"
           },
           {
            "args": [
             [
              "2023-07-07"
             ],
             {
              "frame": {
               "duration": 0,
               "redraw": true
              },
              "fromcurrent": true,
              "mode": "immediate",
              "transition": {
               "duration": 0,
               "easing": "linear"
              }
             }
            ],
            "label": "2023-07-07",
            "method": "animate"
           },
           {
            "args": [
             [
              "2023-07-14"
             ],
             {
              "frame": {
               "duration": 0,
               "redraw": true
              },
              "fromcurrent": true,
              "mode": "immediate",
              "transition": {
               "duration": 0,
               "easing": "linear"
              }
             }
            ],
            "label": "2023-07-14",
            "method": "animate"
           },
           {
            "args": [
             [
              "2023-07-21"
             ],
             {
              "frame": {
               "duration": 0,
               "redraw": true
              },
              "fromcurrent": true,
              "mode": "immediate",
              "transition": {
               "duration": 0,
               "easing": "linear"
              }
             }
            ],
            "label": "2023-07-21",
            "method": "animate"
           },
           {
            "args": [
             [
              "2023-07-27"
             ],
             {
              "frame": {
               "duration": 0,
               "redraw": true
              },
              "fromcurrent": true,
              "mode": "immediate",
              "transition": {
               "duration": 0,
               "easing": "linear"
              }
             }
            ],
            "label": "2023-07-27",
            "method": "animate"
           },
           {
            "args": [
             [
              "2023-07-28"
             ],
             {
              "frame": {
               "duration": 0,
               "redraw": true
              },
              "fromcurrent": true,
              "mode": "immediate",
              "transition": {
               "duration": 0,
               "easing": "linear"
              }
             }
            ],
            "label": "2023-07-28",
            "method": "animate"
           },
           {
            "args": [
             [
              "2023-08-04"
             ],
             {
              "frame": {
               "duration": 0,
               "redraw": true
              },
              "fromcurrent": true,
              "mode": "immediate",
              "transition": {
               "duration": 0,
               "easing": "linear"
              }
             }
            ],
            "label": "2023-08-04",
            "method": "animate"
           },
           {
            "args": [
             [
              "2023-08-11"
             ],
             {
              "frame": {
               "duration": 0,
               "redraw": true
              },
              "fromcurrent": true,
              "mode": "immediate",
              "transition": {
               "duration": 0,
               "easing": "linear"
              }
             }
            ],
            "label": "2023-08-11",
            "method": "animate"
           },
           {
            "args": [
             [
              "2023-08-18"
             ],
             {
              "frame": {
               "duration": 0,
               "redraw": true
              },
              "fromcurrent": true,
              "mode": "immediate",
              "transition": {
               "duration": 0,
               "easing": "linear"
              }
             }
            ],
            "label": "2023-08-18",
            "method": "animate"
           },
           {
            "args": [
             [
              "2023-08-25"
             ],
             {
              "frame": {
               "duration": 0,
               "redraw": true
              },
              "fromcurrent": true,
              "mode": "immediate",
              "transition": {
               "duration": 0,
               "easing": "linear"
              }
             }
            ],
            "label": "2023-08-25",
            "method": "animate"
           },
           {
            "args": [
             [
              "2023-09-01"
             ],
             {
              "frame": {
               "duration": 0,
               "redraw": true
              },
              "fromcurrent": true,
              "mode": "immediate",
              "transition": {
               "duration": 0,
               "easing": "linear"
              }
             }
            ],
            "label": "2023-09-01",
            "method": "animate"
           },
           {
            "args": [
             [
              "2023-09-08"
             ],
             {
              "frame": {
               "duration": 0,
               "redraw": true
              },
              "fromcurrent": true,
              "mode": "immediate",
              "transition": {
               "duration": 0,
               "easing": "linear"
              }
             }
            ],
            "label": "2023-09-08",
            "method": "animate"
           },
           {
            "args": [
             [
              "2023-09-15"
             ],
             {
              "frame": {
               "duration": 0,
               "redraw": true
              },
              "fromcurrent": true,
              "mode": "immediate",
              "transition": {
               "duration": 0,
               "easing": "linear"
              }
             }
            ],
            "label": "2023-09-15",
            "method": "animate"
           },
           {
            "args": [
             [
              "2023-09-22"
             ],
             {
              "frame": {
               "duration": 0,
               "redraw": true
              },
              "fromcurrent": true,
              "mode": "immediate",
              "transition": {
               "duration": 0,
               "easing": "linear"
              }
             }
            ],
            "label": "2023-09-22",
            "method": "animate"
           },
           {
            "args": [
             [
              "2023-09-30"
             ],
             {
              "frame": {
               "duration": 0,
               "redraw": true
              },
              "fromcurrent": true,
              "mode": "immediate",
              "transition": {
               "duration": 0,
               "easing": "linear"
              }
             }
            ],
            "label": "2023-09-30",
            "method": "animate"
           },
           {
            "args": [
             [
              "2023-10-06"
             ],
             {
              "frame": {
               "duration": 0,
               "redraw": true
              },
              "fromcurrent": true,
              "mode": "immediate",
              "transition": {
               "duration": 0,
               "easing": "linear"
              }
             }
            ],
            "label": "2023-10-06",
            "method": "animate"
           },
           {
            "args": [
             [
              "2023-10-13"
             ],
             {
              "frame": {
               "duration": 0,
               "redraw": true
              },
              "fromcurrent": true,
              "mode": "immediate",
              "transition": {
               "duration": 0,
               "easing": "linear"
              }
             }
            ],
            "label": "2023-10-13",
            "method": "animate"
           },
           {
            "args": [
             [
              "2023-10-20"
             ],
             {
              "frame": {
               "duration": 0,
               "redraw": true
              },
              "fromcurrent": true,
              "mode": "immediate",
              "transition": {
               "duration": 0,
               "easing": "linear"
              }
             }
            ],
            "label": "2023-10-20",
            "method": "animate"
           },
           {
            "args": [
             [
              "2023-10-26"
             ],
             {
              "frame": {
               "duration": 0,
               "redraw": true
              },
              "fromcurrent": true,
              "mode": "immediate",
              "transition": {
               "duration": 0,
               "easing": "linear"
              }
             }
            ],
            "label": "2023-10-26",
            "method": "animate"
           },
           {
            "args": [
             [
              "2023-11-03"
             ],
             {
              "frame": {
               "duration": 0,
               "redraw": true
              },
              "fromcurrent": true,
              "mode": "immediate",
              "transition": {
               "duration": 0,
               "easing": "linear"
              }
             }
            ],
            "label": "2023-11-03",
            "method": "animate"
           },
           {
            "args": [
             [
              "2023-11-09"
             ],
             {
              "frame": {
               "duration": 0,
               "redraw": true
              },
              "fromcurrent": true,
              "mode": "immediate",
              "transition": {
               "duration": 0,
               "easing": "linear"
              }
             }
            ],
            "label": "2023-11-09",
            "method": "animate"
           },
           {
            "args": [
             [
              "2023-11-17"
             ],
             {
              "frame": {
               "duration": 0,
               "redraw": true
              },
              "fromcurrent": true,
              "mode": "immediate",
              "transition": {
               "duration": 0,
               "easing": "linear"
              }
             }
            ],
            "label": "2023-11-17",
            "method": "animate"
           },
           {
            "args": [
             [
              "2023-11-24"
             ],
             {
              "frame": {
               "duration": 0,
               "redraw": true
              },
              "fromcurrent": true,
              "mode": "immediate",
              "transition": {
               "duration": 0,
               "easing": "linear"
              }
             }
            ],
            "label": "2023-11-24",
            "method": "animate"
           },
           {
            "args": [
             [
              "2023-12-08"
             ],
             {
              "frame": {
               "duration": 0,
               "redraw": true
              },
              "fromcurrent": true,
              "mode": "immediate",
              "transition": {
               "duration": 0,
               "easing": "linear"
              }
             }
            ],
            "label": "2023-12-08",
            "method": "animate"
           },
           {
            "args": [
             [
              "2023-12-15"
             ],
             {
              "frame": {
               "duration": 0,
               "redraw": true
              },
              "fromcurrent": true,
              "mode": "immediate",
              "transition": {
               "duration": 0,
               "easing": "linear"
              }
             }
            ],
            "label": "2023-12-15",
            "method": "animate"
           },
           {
            "args": [
             [
              "2023-12-21"
             ],
             {
              "frame": {
               "duration": 0,
               "redraw": true
              },
              "fromcurrent": true,
              "mode": "immediate",
              "transition": {
               "duration": 0,
               "easing": "linear"
              }
             }
            ],
            "label": "2023-12-21",
            "method": "animate"
           },
           {
            "args": [
             [
              "2023-12-28"
             ],
             {
              "frame": {
               "duration": 0,
               "redraw": true
              },
              "fromcurrent": true,
              "mode": "immediate",
              "transition": {
               "duration": 0,
               "easing": "linear"
              }
             }
            ],
            "label": "2023-12-28",
            "method": "animate"
           },
           {
            "args": [
             [
              "2024-01-04"
             ],
             {
              "frame": {
               "duration": 0,
               "redraw": true
              },
              "fromcurrent": true,
              "mode": "immediate",
              "transition": {
               "duration": 0,
               "easing": "linear"
              }
             }
            ],
            "label": "2024-01-04",
            "method": "animate"
           },
           {
            "args": [
             [
              "2024-01-11"
             ],
             {
              "frame": {
               "duration": 0,
               "redraw": true
              },
              "fromcurrent": true,
              "mode": "immediate",
              "transition": {
               "duration": 0,
               "easing": "linear"
              }
             }
            ],
            "label": "2024-01-11",
            "method": "animate"
           },
           {
            "args": [
             [
              "2024-01-18"
             ],
             {
              "frame": {
               "duration": 0,
               "redraw": true
              },
              "fromcurrent": true,
              "mode": "immediate",
              "transition": {
               "duration": 0,
               "easing": "linear"
              }
             }
            ],
            "label": "2024-01-18",
            "method": "animate"
           },
           {
            "args": [
             [
              "2024-01-25"
             ],
             {
              "frame": {
               "duration": 0,
               "redraw": true
              },
              "fromcurrent": true,
              "mode": "immediate",
              "transition": {
               "duration": 0,
               "easing": "linear"
              }
             }
            ],
            "label": "2024-01-25",
            "method": "animate"
           },
           {
            "args": [
             [
              "2024-02-02"
             ],
             {
              "frame": {
               "duration": 0,
               "redraw": true
              },
              "fromcurrent": true,
              "mode": "immediate",
              "transition": {
               "duration": 0,
               "easing": "linear"
              }
             }
            ],
            "label": "2024-02-02",
            "method": "animate"
           },
           {
            "args": [
             [
              "2024-02-08"
             ],
             {
              "frame": {
               "duration": 0,
               "redraw": true
              },
              "fromcurrent": true,
              "mode": "immediate",
              "transition": {
               "duration": 0,
               "easing": "linear"
              }
             }
            ],
            "label": "2024-02-08",
            "method": "animate"
           },
           {
            "args": [
             [
              "2024-02-16"
             ],
             {
              "frame": {
               "duration": 0,
               "redraw": true
              },
              "fromcurrent": true,
              "mode": "immediate",
              "transition": {
               "duration": 0,
               "easing": "linear"
              }
             }
            ],
            "label": "2024-02-16",
            "method": "animate"
           },
           {
            "args": [
             [
              "2024-02-23"
             ],
             {
              "frame": {
               "duration": 0,
               "redraw": true
              },
              "fromcurrent": true,
              "mode": "immediate",
              "transition": {
               "duration": 0,
               "easing": "linear"
              }
             }
            ],
            "label": "2024-02-23",
            "method": "animate"
           },
           {
            "args": [
             [
              "2024-03-01"
             ],
             {
              "frame": {
               "duration": 0,
               "redraw": true
              },
              "fromcurrent": true,
              "mode": "immediate",
              "transition": {
               "duration": 0,
               "easing": "linear"
              }
             }
            ],
            "label": "2024-03-01",
            "method": "animate"
           },
           {
            "args": [
             [
              "2024-03-07"
             ],
             {
              "frame": {
               "duration": 0,
               "redraw": true
              },
              "fromcurrent": true,
              "mode": "immediate",
              "transition": {
               "duration": 0,
               "easing": "linear"
              }
             }
            ],
            "label": "2024-03-07",
            "method": "animate"
           },
           {
            "args": [
             [
              "2024-03-15"
             ],
             {
              "frame": {
               "duration": 0,
               "redraw": true
              },
              "fromcurrent": true,
              "mode": "immediate",
              "transition": {
               "duration": 0,
               "easing": "linear"
              }
             }
            ],
            "label": "2024-03-15",
            "method": "animate"
           },
           {
            "args": [
             [
              "2024-03-22"
             ],
             {
              "frame": {
               "duration": 0,
               "redraw": true
              },
              "fromcurrent": true,
              "mode": "immediate",
              "transition": {
               "duration": 0,
               "easing": "linear"
              }
             }
            ],
            "label": "2024-03-22",
            "method": "animate"
           },
           {
            "args": [
             [
              "2024-03-29"
             ],
             {
              "frame": {
               "duration": 0,
               "redraw": true
              },
              "fromcurrent": true,
              "mode": "immediate",
              "transition": {
               "duration": 0,
               "easing": "linear"
              }
             }
            ],
            "label": "2024-03-29",
            "method": "animate"
           },
           {
            "args": [
             [
              "2024-04-05"
             ],
             {
              "frame": {
               "duration": 0,
               "redraw": true
              },
              "fromcurrent": true,
              "mode": "immediate",
              "transition": {
               "duration": 0,
               "easing": "linear"
              }
             }
            ],
            "label": "2024-04-05",
            "method": "animate"
           },
           {
            "args": [
             [
              "2024-04-12"
             ],
             {
              "frame": {
               "duration": 0,
               "redraw": true
              },
              "fromcurrent": true,
              "mode": "immediate",
              "transition": {
               "duration": 0,
               "easing": "linear"
              }
             }
            ],
            "label": "2024-04-12",
            "method": "animate"
           },
           {
            "args": [
             [
              "2024-04-19"
             ],
             {
              "frame": {
               "duration": 0,
               "redraw": true
              },
              "fromcurrent": true,
              "mode": "immediate",
              "transition": {
               "duration": 0,
               "easing": "linear"
              }
             }
            ],
            "label": "2024-04-19",
            "method": "animate"
           },
           {
            "args": [
             [
              "2024-04-26"
             ],
             {
              "frame": {
               "duration": 0,
               "redraw": true
              },
              "fromcurrent": true,
              "mode": "immediate",
              "transition": {
               "duration": 0,
               "easing": "linear"
              }
             }
            ],
            "label": "2024-04-26",
            "method": "animate"
           },
           {
            "args": [
             [
              "2024-05-02"
             ],
             {
              "frame": {
               "duration": 0,
               "redraw": true
              },
              "fromcurrent": true,
              "mode": "immediate",
              "transition": {
               "duration": 0,
               "easing": "linear"
              }
             }
            ],
            "label": "2024-05-02",
            "method": "animate"
           },
           {
            "args": [
             [
              "2024-05-09"
             ],
             {
              "frame": {
               "duration": 0,
               "redraw": true
              },
              "fromcurrent": true,
              "mode": "immediate",
              "transition": {
               "duration": 0,
               "easing": "linear"
              }
             }
            ],
            "label": "2024-05-09",
            "method": "animate"
           },
           {
            "args": [
             [
              "2024-05-17"
             ],
             {
              "frame": {
               "duration": 0,
               "redraw": true
              },
              "fromcurrent": true,
              "mode": "immediate",
              "transition": {
               "duration": 0,
               "easing": "linear"
              }
             }
            ],
            "label": "2024-05-17",
            "method": "animate"
           },
           {
            "args": [
             [
              "2024-05-24"
             ],
             {
              "frame": {
               "duration": 0,
               "redraw": true
              },
              "fromcurrent": true,
              "mode": "immediate",
              "transition": {
               "duration": 0,
               "easing": "linear"
              }
             }
            ],
            "label": "2024-05-24",
            "method": "animate"
           },
           {
            "args": [
             [
              "2024-05-31"
             ],
             {
              "frame": {
               "duration": 0,
               "redraw": true
              },
              "fromcurrent": true,
              "mode": "immediate",
              "transition": {
               "duration": 0,
               "easing": "linear"
              }
             }
            ],
            "label": "2024-05-31",
            "method": "animate"
           },
           {
            "args": [
             [
              "2024-06-07"
             ],
             {
              "frame": {
               "duration": 0,
               "redraw": true
              },
              "fromcurrent": true,
              "mode": "immediate",
              "transition": {
               "duration": 0,
               "easing": "linear"
              }
             }
            ],
            "label": "2024-06-07",
            "method": "animate"
           },
           {
            "args": [
             [
              "2024-06-14"
             ],
             {
              "frame": {
               "duration": 0,
               "redraw": true
              },
              "fromcurrent": true,
              "mode": "immediate",
              "transition": {
               "duration": 0,
               "easing": "linear"
              }
             }
            ],
            "label": "2024-06-14",
            "method": "animate"
           },
           {
            "args": [
             [
              "2024-06-21"
             ],
             {
              "frame": {
               "duration": 0,
               "redraw": true
              },
              "fromcurrent": true,
              "mode": "immediate",
              "transition": {
               "duration": 0,
               "easing": "linear"
              }
             }
            ],
            "label": "2024-06-21",
            "method": "animate"
           },
           {
            "args": [
             [
              "2024-06-27"
             ],
             {
              "frame": {
               "duration": 0,
               "redraw": true
              },
              "fromcurrent": true,
              "mode": "immediate",
              "transition": {
               "duration": 0,
               "easing": "linear"
              }
             }
            ],
            "label": "2024-06-27",
            "method": "animate"
           },
           {
            "args": [
             [
              "2024-07-05"
             ],
             {
              "frame": {
               "duration": 0,
               "redraw": true
              },
              "fromcurrent": true,
              "mode": "immediate",
              "transition": {
               "duration": 0,
               "easing": "linear"
              }
             }
            ],
            "label": "2024-07-05",
            "method": "animate"
           },
           {
            "args": [
             [
              "2024-07-12"
             ],
             {
              "frame": {
               "duration": 0,
               "redraw": true
              },
              "fromcurrent": true,
              "mode": "immediate",
              "transition": {
               "duration": 0,
               "easing": "linear"
              }
             }
            ],
            "label": "2024-07-12",
            "method": "animate"
           },
           {
            "args": [
             [
              "2024-07-19"
             ],
             {
              "frame": {
               "duration": 0,
               "redraw": true
              },
              "fromcurrent": true,
              "mode": "immediate",
              "transition": {
               "duration": 0,
               "easing": "linear"
              }
             }
            ],
            "label": "2024-07-19",
            "method": "animate"
           },
           {
            "args": [
             [
              "2024-07-25"
             ],
             {
              "frame": {
               "duration": 0,
               "redraw": true
              },
              "fromcurrent": true,
              "mode": "immediate",
              "transition": {
               "duration": 0,
               "easing": "linear"
              }
             }
            ],
            "label": "2024-07-25",
            "method": "animate"
           },
           {
            "args": [
             [
              "2024-08-02"
             ],
             {
              "frame": {
               "duration": 0,
               "redraw": true
              },
              "fromcurrent": true,
              "mode": "immediate",
              "transition": {
               "duration": 0,
               "easing": "linear"
              }
             }
            ],
            "label": "2024-08-02",
            "method": "animate"
           },
           {
            "args": [
             [
              "2024-08-08"
             ],
             {
              "frame": {
               "duration": 0,
               "redraw": true
              },
              "fromcurrent": true,
              "mode": "immediate",
              "transition": {
               "duration": 0,
               "easing": "linear"
              }
             }
            ],
            "label": "2024-08-08",
            "method": "animate"
           },
           {
            "args": [
             [
              "2024-08-15"
             ],
             {
              "frame": {
               "duration": 0,
               "redraw": true
              },
              "fromcurrent": true,
              "mode": "immediate",
              "transition": {
               "duration": 0,
               "easing": "linear"
              }
             }
            ],
            "label": "2024-08-15",
            "method": "animate"
           },
           {
            "args": [
             [
              "2024-08-22"
             ],
             {
              "frame": {
               "duration": 0,
               "redraw": true
              },
              "fromcurrent": true,
              "mode": "immediate",
              "transition": {
               "duration": 0,
               "easing": "linear"
              }
             }
            ],
            "label": "2024-08-22",
            "method": "animate"
           },
           {
            "args": [
             [
              "2024-08-29"
             ],
             {
              "frame": {
               "duration": 0,
               "redraw": true
              },
              "fromcurrent": true,
              "mode": "immediate",
              "transition": {
               "duration": 0,
               "easing": "linear"
              }
             }
            ],
            "label": "2024-08-29",
            "method": "animate"
           },
           {
            "args": [
             [
              "2024-09-06"
             ],
             {
              "frame": {
               "duration": 0,
               "redraw": true
              },
              "fromcurrent": true,
              "mode": "immediate",
              "transition": {
               "duration": 0,
               "easing": "linear"
              }
             }
            ],
            "label": "2024-09-06",
            "method": "animate"
           },
           {
            "args": [
             [
              "2024-09-13"
             ],
             {
              "frame": {
               "duration": 0,
               "redraw": true
              },
              "fromcurrent": true,
              "mode": "immediate",
              "transition": {
               "duration": 0,
               "easing": "linear"
              }
             }
            ],
            "label": "2024-09-13",
            "method": "animate"
           },
           {
            "args": [
             [
              "2024-09-20"
             ],
             {
              "frame": {
               "duration": 0,
               "redraw": true
              },
              "fromcurrent": true,
              "mode": "immediate",
              "transition": {
               "duration": 0,
               "easing": "linear"
              }
             }
            ],
            "label": "2024-09-20",
            "method": "animate"
           },
           {
            "args": [
             [
              "2024-09-26"
             ],
             {
              "frame": {
               "duration": 0,
               "redraw": true
              },
              "fromcurrent": true,
              "mode": "immediate",
              "transition": {
               "duration": 0,
               "easing": "linear"
              }
             }
            ],
            "label": "2024-09-26",
            "method": "animate"
           },
           {
            "args": [
             [
              "2024-10-04"
             ],
             {
              "frame": {
               "duration": 0,
               "redraw": true
              },
              "fromcurrent": true,
              "mode": "immediate",
              "transition": {
               "duration": 0,
               "easing": "linear"
              }
             }
            ],
            "label": "2024-10-04",
            "method": "animate"
           },
           {
            "args": [
             [
              "2024-10-10"
             ],
             {
              "frame": {
               "duration": 0,
               "redraw": true
              },
              "fromcurrent": true,
              "mode": "immediate",
              "transition": {
               "duration": 0,
               "easing": "linear"
              }
             }
            ],
            "label": "2024-10-10",
            "method": "animate"
           },
           {
            "args": [
             [
              "2024-10-18"
             ],
             {
              "frame": {
               "duration": 0,
               "redraw": true
              },
              "fromcurrent": true,
              "mode": "immediate",
              "transition": {
               "duration": 0,
               "easing": "linear"
              }
             }
            ],
            "label": "2024-10-18",
            "method": "animate"
           },
           {
            "args": [
             [
              "2024-10-25"
             ],
             {
              "frame": {
               "duration": 0,
               "redraw": true
              },
              "fromcurrent": true,
              "mode": "immediate",
              "transition": {
               "duration": 0,
               "easing": "linear"
              }
             }
            ],
            "label": "2024-10-25",
            "method": "animate"
           },
           {
            "args": [
             [
              "2024-10-31"
             ],
             {
              "frame": {
               "duration": 0,
               "redraw": true
              },
              "fromcurrent": true,
              "mode": "immediate",
              "transition": {
               "duration": 0,
               "easing": "linear"
              }
             }
            ],
            "label": "2024-10-31",
            "method": "animate"
           },
           {
            "args": [
             [
              "2024-11-07"
             ],
             {
              "frame": {
               "duration": 0,
               "redraw": true
              },
              "fromcurrent": true,
              "mode": "immediate",
              "transition": {
               "duration": 0,
               "easing": "linear"
              }
             }
            ],
            "label": "2024-11-07",
            "method": "animate"
           },
           {
            "args": [
             [
              "2024-11-15"
             ],
             {
              "frame": {
               "duration": 0,
               "redraw": true
              },
              "fromcurrent": true,
              "mode": "immediate",
              "transition": {
               "duration": 0,
               "easing": "linear"
              }
             }
            ],
            "label": "2024-11-15",
            "method": "animate"
           },
           {
            "args": [
             [
              "2024-11-21"
             ],
             {
              "frame": {
               "duration": 0,
               "redraw": true
              },
              "fromcurrent": true,
              "mode": "immediate",
              "transition": {
               "duration": 0,
               "easing": "linear"
              }
             }
            ],
            "label": "2024-11-21",
            "method": "animate"
           },
           {
            "args": [
             [
              "2024-11-28"
             ],
             {
              "frame": {
               "duration": 0,
               "redraw": true
              },
              "fromcurrent": true,
              "mode": "immediate",
              "transition": {
               "duration": 0,
               "easing": "linear"
              }
             }
            ],
            "label": "2024-11-28",
            "method": "animate"
           },
           {
            "args": [
             [
              "2024-12-06"
             ],
             {
              "frame": {
               "duration": 0,
               "redraw": true
              },
              "fromcurrent": true,
              "mode": "immediate",
              "transition": {
               "duration": 0,
               "easing": "linear"
              }
             }
            ],
            "label": "2024-12-06",
            "method": "animate"
           },
           {
            "args": [
             [
              "2024-12-13"
             ],
             {
              "frame": {
               "duration": 0,
               "redraw": true
              },
              "fromcurrent": true,
              "mode": "immediate",
              "transition": {
               "duration": 0,
               "easing": "linear"
              }
             }
            ],
            "label": "2024-12-13",
            "method": "animate"
           },
           {
            "args": [
             [
              "2024-12-20"
             ],
             {
              "frame": {
               "duration": 0,
               "redraw": true
              },
              "fromcurrent": true,
              "mode": "immediate",
              "transition": {
               "duration": 0,
               "easing": "linear"
              }
             }
            ],
            "label": "2024-12-20",
            "method": "animate"
           },
           {
            "args": [
             [
              "2024-12-26"
             ],
             {
              "frame": {
               "duration": 0,
               "redraw": true
              },
              "fromcurrent": true,
              "mode": "immediate",
              "transition": {
               "duration": 0,
               "easing": "linear"
              }
             }
            ],
            "label": "2024-12-26",
            "method": "animate"
           },
           {
            "args": [
             [
              "2025-01-02"
             ],
             {
              "frame": {
               "duration": 0,
               "redraw": true
              },
              "fromcurrent": true,
              "mode": "immediate",
              "transition": {
               "duration": 0,
               "easing": "linear"
              }
             }
            ],
            "label": "2025-01-02",
            "method": "animate"
           },
           {
            "args": [
             [
              "2025-01-10"
             ],
             {
              "frame": {
               "duration": 0,
               "redraw": true
              },
              "fromcurrent": true,
              "mode": "immediate",
              "transition": {
               "duration": 0,
               "easing": "linear"
              }
             }
            ],
            "label": "2025-01-10",
            "method": "animate"
           },
           {
            "args": [
             [
              "2025-01-16"
             ],
             {
              "frame": {
               "duration": 0,
               "redraw": true
              },
              "fromcurrent": true,
              "mode": "immediate",
              "transition": {
               "duration": 0,
               "easing": "linear"
              }
             }
            ],
            "label": "2025-01-16",
            "method": "animate"
           },
           {
            "args": [
             [
              "2025-01-23"
             ],
             {
              "frame": {
               "duration": 0,
               "redraw": true
              },
              "fromcurrent": true,
              "mode": "immediate",
              "transition": {
               "duration": 0,
               "easing": "linear"
              }
             }
            ],
            "label": "2025-01-23",
            "method": "animate"
           },
           {
            "args": [
             [
              "2025-01-31"
             ],
             {
              "frame": {
               "duration": 0,
               "redraw": true
              },
              "fromcurrent": true,
              "mode": "immediate",
              "transition": {
               "duration": 0,
               "easing": "linear"
              }
             }
            ],
            "label": "2025-01-31",
            "method": "animate"
           },
           {
            "args": [
             [
              "2025-02-06"
             ],
             {
              "frame": {
               "duration": 0,
               "redraw": true
              },
              "fromcurrent": true,
              "mode": "immediate",
              "transition": {
               "duration": 0,
               "easing": "linear"
              }
             }
            ],
            "label": "2025-02-06",
            "method": "animate"
           },
           {
            "args": [
             [
              "2025-02-14"
             ],
             {
              "frame": {
               "duration": 0,
               "redraw": true
              },
              "fromcurrent": true,
              "mode": "immediate",
              "transition": {
               "duration": 0,
               "easing": "linear"
              }
             }
            ],
            "label": "2025-02-14",
            "method": "animate"
           },
           {
            "args": [
             [
              "2025-02-21"
             ],
             {
              "frame": {
               "duration": 0,
               "redraw": true
              },
              "fromcurrent": true,
              "mode": "immediate",
              "transition": {
               "duration": 0,
               "easing": "linear"
              }
             }
            ],
            "label": "2025-02-21",
            "method": "animate"
           },
           {
            "args": [
             [
              "2025-02-28"
             ],
             {
              "frame": {
               "duration": 0,
               "redraw": true
              },
              "fromcurrent": true,
              "mode": "immediate",
              "transition": {
               "duration": 0,
               "easing": "linear"
              }
             }
            ],
            "label": "2025-02-28",
            "method": "animate"
           },
           {
            "args": [
             [
              "2025-03-06"
             ],
             {
              "frame": {
               "duration": 0,
               "redraw": true
              },
              "fromcurrent": true,
              "mode": "immediate",
              "transition": {
               "duration": 0,
               "easing": "linear"
              }
             }
            ],
            "label": "2025-03-06",
            "method": "animate"
           },
           {
            "args": [
             [
              "2025-03-13"
             ],
             {
              "frame": {
               "duration": 0,
               "redraw": true
              },
              "fromcurrent": true,
              "mode": "immediate",
              "transition": {
               "duration": 0,
               "easing": "linear"
              }
             }
            ],
            "label": "2025-03-13",
            "method": "animate"
           },
           {
            "args": [
             [
              "2025-03-21"
             ],
             {
              "frame": {
               "duration": 0,
               "redraw": true
              },
              "fromcurrent": true,
              "mode": "immediate",
              "transition": {
               "duration": 0,
               "easing": "linear"
              }
             }
            ],
            "label": "2025-03-21",
            "method": "animate"
           },
           {
            "args": [
             [
              "2025-03-27"
             ],
             {
              "frame": {
               "duration": 0,
               "redraw": true
              },
              "fromcurrent": true,
              "mode": "immediate",
              "transition": {
               "duration": 0,
               "easing": "linear"
              }
             }
            ],
            "label": "2025-03-27",
            "method": "animate"
           },
           {
            "args": [
             [
              "2025-04-04"
             ],
             {
              "frame": {
               "duration": 0,
               "redraw": true
              },
              "fromcurrent": true,
              "mode": "immediate",
              "transition": {
               "duration": 0,
               "easing": "linear"
              }
             }
            ],
            "label": "2025-04-04",
            "method": "animate"
           },
           {
            "args": [
             [
              "2025-04-11"
             ],
             {
              "frame": {
               "duration": 0,
               "redraw": true
              },
              "fromcurrent": true,
              "mode": "immediate",
              "transition": {
               "duration": 0,
               "easing": "linear"
              }
             }
            ],
            "label": "2025-04-11",
            "method": "animate"
           },
           {
            "args": [
             [
              "2025-04-18"
             ],
             {
              "frame": {
               "duration": 0,
               "redraw": true
              },
              "fromcurrent": true,
              "mode": "immediate",
              "transition": {
               "duration": 0,
               "easing": "linear"
              }
             }
            ],
            "label": "2025-04-18",
            "method": "animate"
           },
           {
            "args": [
             [
              "2025-04-24"
             ],
             {
              "frame": {
               "duration": 0,
               "redraw": true
              },
              "fromcurrent": true,
              "mode": "immediate",
              "transition": {
               "duration": 0,
               "easing": "linear"
              }
             }
            ],
            "label": "2025-04-24",
            "method": "animate"
           },
           {
            "args": [
             [
              "2025-05-02"
             ],
             {
              "frame": {
               "duration": 0,
               "redraw": true
              },
              "fromcurrent": true,
              "mode": "immediate",
              "transition": {
               "duration": 0,
               "easing": "linear"
              }
             }
            ],
            "label": "2025-05-02",
            "method": "animate"
           },
           {
            "args": [
             [
              "2025-05-09"
             ],
             {
              "frame": {
               "duration": 0,
               "redraw": true
              },
              "fromcurrent": true,
              "mode": "immediate",
              "transition": {
               "duration": 0,
               "easing": "linear"
              }
             }
            ],
            "label": "2025-05-09",
            "method": "animate"
           },
           {
            "args": [
             [
              "2025-05-16"
             ],
             {
              "frame": {
               "duration": 0,
               "redraw": true
              },
              "fromcurrent": true,
              "mode": "immediate",
              "transition": {
               "duration": 0,
               "easing": "linear"
              }
             }
            ],
            "label": "2025-05-16",
            "method": "animate"
           },
           {
            "args": [
             [
              "2025-05-22"
             ],
             {
              "frame": {
               "duration": 0,
               "redraw": true
              },
              "fromcurrent": true,
              "mode": "immediate",
              "transition": {
               "duration": 0,
               "easing": "linear"
              }
             }
            ],
            "label": "2025-05-22",
            "method": "animate"
           },
           {
            "args": [
             [
              "2025-05-29"
             ],
             {
              "frame": {
               "duration": 0,
               "redraw": true
              },
              "fromcurrent": true,
              "mode": "immediate",
              "transition": {
               "duration": 0,
               "easing": "linear"
              }
             }
            ],
            "label": "2025-05-29",
            "method": "animate"
           },
           {
            "args": [
             [
              "2025-06-05"
             ],
             {
              "frame": {
               "duration": 0,
               "redraw": true
              },
              "fromcurrent": true,
              "mode": "immediate",
              "transition": {
               "duration": 0,
               "easing": "linear"
              }
             }
            ],
            "label": "2025-06-05",
            "method": "animate"
           },
           {
            "args": [
             [
              "2025-06-12"
             ],
             {
              "frame": {
               "duration": 0,
               "redraw": true
              },
              "fromcurrent": true,
              "mode": "immediate",
              "transition": {
               "duration": 0,
               "easing": "linear"
              }
             }
            ],
            "label": "2025-06-12",
            "method": "animate"
           },
           {
            "args": [
             [
              "2025-06-20"
             ],
             {
              "frame": {
               "duration": 0,
               "redraw": true
              },
              "fromcurrent": true,
              "mode": "immediate",
              "transition": {
               "duration": 0,
               "easing": "linear"
              }
             }
            ],
            "label": "2025-06-20",
            "method": "animate"
           }
          ],
          "x": 0.1,
          "xanchor": "left",
          "y": 0,
          "yanchor": "top"
         }
        ],
        "template": {
         "data": {
          "bar": [
           {
            "error_x": {
             "color": "#2a3f5f"
            },
            "error_y": {
             "color": "#2a3f5f"
            },
            "marker": {
             "line": {
              "color": "#E5ECF6",
              "width": 0.5
             },
             "pattern": {
              "fillmode": "overlay",
              "size": 10,
              "solidity": 0.2
             }
            },
            "type": "bar"
           }
          ],
          "barpolar": [
           {
            "marker": {
             "line": {
              "color": "#E5ECF6",
              "width": 0.5
             },
             "pattern": {
              "fillmode": "overlay",
              "size": 10,
              "solidity": 0.2
             }
            },
            "type": "barpolar"
           }
          ],
          "carpet": [
           {
            "aaxis": {
             "endlinecolor": "#2a3f5f",
             "gridcolor": "white",
             "linecolor": "white",
             "minorgridcolor": "white",
             "startlinecolor": "#2a3f5f"
            },
            "baxis": {
             "endlinecolor": "#2a3f5f",
             "gridcolor": "white",
             "linecolor": "white",
             "minorgridcolor": "white",
             "startlinecolor": "#2a3f5f"
            },
            "type": "carpet"
           }
          ],
          "choropleth": [
           {
            "colorbar": {
             "outlinewidth": 0,
             "ticks": ""
            },
            "type": "choropleth"
           }
          ],
          "contour": [
           {
            "colorbar": {
             "outlinewidth": 0,
             "ticks": ""
            },
            "colorscale": [
             [
              0,
              "#0d0887"
             ],
             [
              0.1111111111111111,
              "#46039f"
             ],
             [
              0.2222222222222222,
              "#7201a8"
             ],
             [
              0.3333333333333333,
              "#9c179e"
             ],
             [
              0.4444444444444444,
              "#bd3786"
             ],
             [
              0.5555555555555556,
              "#d8576b"
             ],
             [
              0.6666666666666666,
              "#ed7953"
             ],
             [
              0.7777777777777778,
              "#fb9f3a"
             ],
             [
              0.8888888888888888,
              "#fdca26"
             ],
             [
              1,
              "#f0f921"
             ]
            ],
            "type": "contour"
           }
          ],
          "contourcarpet": [
           {
            "colorbar": {
             "outlinewidth": 0,
             "ticks": ""
            },
            "type": "contourcarpet"
           }
          ],
          "heatmap": [
           {
            "colorbar": {
             "outlinewidth": 0,
             "ticks": ""
            },
            "colorscale": [
             [
              0,
              "#0d0887"
             ],
             [
              0.1111111111111111,
              "#46039f"
             ],
             [
              0.2222222222222222,
              "#7201a8"
             ],
             [
              0.3333333333333333,
              "#9c179e"
             ],
             [
              0.4444444444444444,
              "#bd3786"
             ],
             [
              0.5555555555555556,
              "#d8576b"
             ],
             [
              0.6666666666666666,
              "#ed7953"
             ],
             [
              0.7777777777777778,
              "#fb9f3a"
             ],
             [
              0.8888888888888888,
              "#fdca26"
             ],
             [
              1,
              "#f0f921"
             ]
            ],
            "type": "heatmap"
           }
          ],
          "histogram": [
           {
            "marker": {
             "pattern": {
              "fillmode": "overlay",
              "size": 10,
              "solidity": 0.2
             }
            },
            "type": "histogram"
           }
          ],
          "histogram2d": [
           {
            "colorbar": {
             "outlinewidth": 0,
             "ticks": ""
            },
            "colorscale": [
             [
              0,
              "#0d0887"
             ],
             [
              0.1111111111111111,
              "#46039f"
             ],
             [
              0.2222222222222222,
              "#7201a8"
             ],
             [
              0.3333333333333333,
              "#9c179e"
             ],
             [
              0.4444444444444444,
              "#bd3786"
             ],
             [
              0.5555555555555556,
              "#d8576b"
             ],
             [
              0.6666666666666666,
              "#ed7953"
             ],
             [
              0.7777777777777778,
              "#fb9f3a"
             ],
             [
              0.8888888888888888,
              "#fdca26"
             ],
             [
              1,
              "#f0f921"
             ]
            ],
            "type": "histogram2d"
           }
          ],
          "histogram2dcontour": [
           {
            "colorbar": {
             "outlinewidth": 0,
             "ticks": ""
            },
            "colorscale": [
             [
              0,
              "#0d0887"
             ],
             [
              0.1111111111111111,
              "#46039f"
             ],
             [
              0.2222222222222222,
              "#7201a8"
             ],
             [
              0.3333333333333333,
              "#9c179e"
             ],
             [
              0.4444444444444444,
              "#bd3786"
             ],
             [
              0.5555555555555556,
              "#d8576b"
             ],
             [
              0.6666666666666666,
              "#ed7953"
             ],
             [
              0.7777777777777778,
              "#fb9f3a"
             ],
             [
              0.8888888888888888,
              "#fdca26"
             ],
             [
              1,
              "#f0f921"
             ]
            ],
            "type": "histogram2dcontour"
           }
          ],
          "mesh3d": [
           {
            "colorbar": {
             "outlinewidth": 0,
             "ticks": ""
            },
            "type": "mesh3d"
           }
          ],
          "parcoords": [
           {
            "line": {
             "colorbar": {
              "outlinewidth": 0,
              "ticks": ""
             }
            },
            "type": "parcoords"
           }
          ],
          "pie": [
           {
            "automargin": true,
            "type": "pie"
           }
          ],
          "scatter": [
           {
            "fillpattern": {
             "fillmode": "overlay",
             "size": 10,
             "solidity": 0.2
            },
            "type": "scatter"
           }
          ],
          "scatter3d": [
           {
            "line": {
             "colorbar": {
              "outlinewidth": 0,
              "ticks": ""
             }
            },
            "marker": {
             "colorbar": {
              "outlinewidth": 0,
              "ticks": ""
             }
            },
            "type": "scatter3d"
           }
          ],
          "scattercarpet": [
           {
            "marker": {
             "colorbar": {
              "outlinewidth": 0,
              "ticks": ""
             }
            },
            "type": "scattercarpet"
           }
          ],
          "scattergeo": [
           {
            "marker": {
             "colorbar": {
              "outlinewidth": 0,
              "ticks": ""
             }
            },
            "type": "scattergeo"
           }
          ],
          "scattergl": [
           {
            "marker": {
             "colorbar": {
              "outlinewidth": 0,
              "ticks": ""
             }
            },
            "type": "scattergl"
           }
          ],
          "scattermap": [
           {
            "marker": {
             "colorbar": {
              "outlinewidth": 0,
              "ticks": ""
             }
            },
            "type": "scattermap"
           }
          ],
          "scattermapbox": [
           {
            "marker": {
             "colorbar": {
              "outlinewidth": 0,
              "ticks": ""
             }
            },
            "type": "scattermapbox"
           }
          ],
          "scatterpolar": [
           {
            "marker": {
             "colorbar": {
              "outlinewidth": 0,
              "ticks": ""
             }
            },
            "type": "scatterpolar"
           }
          ],
          "scatterpolargl": [
           {
            "marker": {
             "colorbar": {
              "outlinewidth": 0,
              "ticks": ""
             }
            },
            "type": "scatterpolargl"
           }
          ],
          "scatterternary": [
           {
            "marker": {
             "colorbar": {
              "outlinewidth": 0,
              "ticks": ""
             }
            },
            "type": "scatterternary"
           }
          ],
          "surface": [
           {
            "colorbar": {
             "outlinewidth": 0,
             "ticks": ""
            },
            "colorscale": [
             [
              0,
              "#0d0887"
             ],
             [
              0.1111111111111111,
              "#46039f"
             ],
             [
              0.2222222222222222,
              "#7201a8"
             ],
             [
              0.3333333333333333,
              "#9c179e"
             ],
             [
              0.4444444444444444,
              "#bd3786"
             ],
             [
              0.5555555555555556,
              "#d8576b"
             ],
             [
              0.6666666666666666,
              "#ed7953"
             ],
             [
              0.7777777777777778,
              "#fb9f3a"
             ],
             [
              0.8888888888888888,
              "#fdca26"
             ],
             [
              1,
              "#f0f921"
             ]
            ],
            "type": "surface"
           }
          ],
          "table": [
           {
            "cells": {
             "fill": {
              "color": "#EBF0F8"
             },
             "line": {
              "color": "white"
             }
            },
            "header": {
             "fill": {
              "color": "#C8D4E3"
             },
             "line": {
              "color": "white"
             }
            },
            "type": "table"
           }
          ]
         },
         "layout": {
          "annotationdefaults": {
           "arrowcolor": "#2a3f5f",
           "arrowhead": 0,
           "arrowwidth": 1
          },
          "autotypenumbers": "strict",
          "coloraxis": {
           "colorbar": {
            "outlinewidth": 0,
            "ticks": ""
           }
          },
          "colorscale": {
           "diverging": [
            [
             0,
             "#8e0152"
            ],
            [
             0.1,
             "#c51b7d"
            ],
            [
             0.2,
             "#de77ae"
            ],
            [
             0.3,
             "#f1b6da"
            ],
            [
             0.4,
             "#fde0ef"
            ],
            [
             0.5,
             "#f7f7f7"
            ],
            [
             0.6,
             "#e6f5d0"
            ],
            [
             0.7,
             "#b8e186"
            ],
            [
             0.8,
             "#7fbc41"
            ],
            [
             0.9,
             "#4d9221"
            ],
            [
             1,
             "#276419"
            ]
           ],
           "sequential": [
            [
             0,
             "#0d0887"
            ],
            [
             0.1111111111111111,
             "#46039f"
            ],
            [
             0.2222222222222222,
             "#7201a8"
            ],
            [
             0.3333333333333333,
             "#9c179e"
            ],
            [
             0.4444444444444444,
             "#bd3786"
            ],
            [
             0.5555555555555556,
             "#d8576b"
            ],
            [
             0.6666666666666666,
             "#ed7953"
            ],
            [
             0.7777777777777778,
             "#fb9f3a"
            ],
            [
             0.8888888888888888,
             "#fdca26"
            ],
            [
             1,
             "#f0f921"
            ]
           ],
           "sequentialminus": [
            [
             0,
             "#0d0887"
            ],
            [
             0.1111111111111111,
             "#46039f"
            ],
            [
             0.2222222222222222,
             "#7201a8"
            ],
            [
             0.3333333333333333,
             "#9c179e"
            ],
            [
             0.4444444444444444,
             "#bd3786"
            ],
            [
             0.5555555555555556,
             "#d8576b"
            ],
            [
             0.6666666666666666,
             "#ed7953"
            ],
            [
             0.7777777777777778,
             "#fb9f3a"
            ],
            [
             0.8888888888888888,
             "#fdca26"
            ],
            [
             1,
             "#f0f921"
            ]
           ]
          },
          "colorway": [
           "#636efa",
           "#EF553B",
           "#00cc96",
           "#ab63fa",
           "#FFA15A",
           "#19d3f3",
           "#FF6692",
           "#B6E880",
           "#FF97FF",
           "#FECB52"
          ],
          "font": {
           "color": "#2a3f5f"
          },
          "geo": {
           "bgcolor": "white",
           "lakecolor": "white",
           "landcolor": "#E5ECF6",
           "showlakes": true,
           "showland": true,
           "subunitcolor": "white"
          },
          "hoverlabel": {
           "align": "left"
          },
          "hovermode": "closest",
          "mapbox": {
           "style": "light"
          },
          "paper_bgcolor": "white",
          "plot_bgcolor": "#E5ECF6",
          "polar": {
           "angularaxis": {
            "gridcolor": "white",
            "linecolor": "white",
            "ticks": ""
           },
           "bgcolor": "#E5ECF6",
           "radialaxis": {
            "gridcolor": "white",
            "linecolor": "white",
            "ticks": ""
           }
          },
          "scene": {
           "xaxis": {
            "backgroundcolor": "#E5ECF6",
            "gridcolor": "white",
            "gridwidth": 2,
            "linecolor": "white",
            "showbackground": true,
            "ticks": "",
            "zerolinecolor": "white"
           },
           "yaxis": {
            "backgroundcolor": "#E5ECF6",
            "gridcolor": "white",
            "gridwidth": 2,
            "linecolor": "white",
            "showbackground": true,
            "ticks": "",
            "zerolinecolor": "white"
           },
           "zaxis": {
            "backgroundcolor": "#E5ECF6",
            "gridcolor": "white",
            "gridwidth": 2,
            "linecolor": "white",
            "showbackground": true,
            "ticks": "",
            "zerolinecolor": "white"
           }
          },
          "shapedefaults": {
           "line": {
            "color": "#2a3f5f"
           }
          },
          "ternary": {
           "aaxis": {
            "gridcolor": "white",
            "linecolor": "white",
            "ticks": ""
           },
           "baxis": {
            "gridcolor": "white",
            "linecolor": "white",
            "ticks": ""
           },
           "bgcolor": "#E5ECF6",
           "caxis": {
            "gridcolor": "white",
            "linecolor": "white",
            "ticks": ""
           }
          },
          "title": {
           "x": 0.05
          },
          "xaxis": {
           "automargin": true,
           "gridcolor": "white",
           "linecolor": "white",
           "ticks": "",
           "title": {
            "standoff": 15
           },
           "zerolinecolor": "white",
           "zerolinewidth": 2
          },
          "yaxis": {
           "automargin": true,
           "gridcolor": "white",
           "linecolor": "white",
           "ticks": "",
           "title": {
            "standoff": 15
           },
           "zerolinecolor": "white",
           "zerolinewidth": 2
          }
         }
        },
        "title": {
         "text": "Trajectory of Iceberg A23A (Jan 2023 - Present)"
        },
        "updatemenus": [
         {
          "buttons": [
           {
            "args": [
             null,
             {
              "frame": {
               "duration": 500,
               "redraw": true
              },
              "fromcurrent": true,
              "mode": "immediate",
              "transition": {
               "duration": 500,
               "easing": "linear"
              }
             }
            ],
            "label": "&#9654;",
            "method": "animate"
           },
           {
            "args": [
             [
              null
             ],
             {
              "frame": {
               "duration": 0,
               "redraw": true
              },
              "fromcurrent": true,
              "mode": "immediate",
              "transition": {
               "duration": 0,
               "easing": "linear"
              }
             }
            ],
            "label": "&#9724;",
            "method": "animate"
           }
          ],
          "direction": "left",
          "pad": {
           "r": 10,
           "t": 70
          },
          "showactive": false,
          "type": "buttons",
          "x": 0.1,
          "xanchor": "right",
          "y": 0,
          "yanchor": "top"
         }
        ]
       }
      }
     },
     "metadata": {},
     "output_type": "display_data"
    },
    {
     "name": "stdout",
     "output_type": "stream",
     "text": [
      "Total duplicate rows: 0\n",
      "Empty DataFrame\n",
      "Columns: [Date, Latitude, Longitude, Last Update, Size]\n",
      "Index: []\n",
      "Entries with duplicate dates: 0\n",
      "Empty DataFrame\n",
      "Columns: [Date, Latitude, Longitude, Last Update, Size]\n",
      "Index: []\n"
     ]
    }
   ],
   "source": [
    "# Load and merge all relevant CSV files\n",
    "folder_path = 'C:/Users/Noeh/Downloads'\n",
    "csv_files = glob.glob(os.path.join(folder_path, 'AntarcticIceber*.csv'))\n",
    "df_list = [pd.read_csv(file) for file in csv_files]\n",
    "merged_df = pd.concat(df_list, ignore_index=True)\n",
    "\n",
    "# Filter for iceberg A23A and keep only relevant columns\n",
    "filtered_df = merged_df[merged_df['Iceberg'] == 'A23A'][['Latitude', 'Longitude', 'Last Update']]\n",
    "filtered_df['Last Update'] = pd.to_datetime(filtered_df['Last Update'], errors='coerce')\n",
    "filtered_df = filtered_df.dropna(subset=['Latitude', 'Longitude', 'Last Update'])\n",
    "filtered_df = filtered_df.sort_values('Last Update')\n",
    "filtered_df['Date'] = filtered_df['Last Update'].dt.date\n",
    "filtered_df = filtered_df.groupby('Date', as_index=False).first()\n",
    "\n",
    "# Set marker size for map visualization\n",
    "filtered_df['Size'] = 4\n",
    "\n",
    "# Create animated scatter plot on map with trajectory line\n",
    "fig = px.scatter_mapbox(\n",
    "    filtered_df,\n",
    "    lat='Latitude',\n",
    "    lon='Longitude',\n",
    "    size='Size',\n",
    "    size_max=8,\n",
    "    hover_data={'Last Update': True},\n",
    "    animation_frame=filtered_df['Last Update'].dt.strftime('%Y-%m-%d'),\n",
    "    zoom=2,\n",
    "    height=600 \n",
    ")\n",
    "\n",
    "fig.add_trace(go.Scattermapbox(\n",
    "    lat=filtered_df['Latitude'],\n",
    "    lon=filtered_df['Longitude'],\n",
    "    mode='lines',\n",
    "    line=dict(color='blue', width=2),\n",
    "    name='Trajectory Line',\n",
    "    hoverinfo='none'\n",
    "))\n",
    "\n",
    "fig.update_layout(\n",
    "    mapbox_style='open-street-map',\n",
    "    title='Trajectory of Iceberg A23A (Jan 2023 - Present)',\n",
    "    margin={'r':0, 't':40, 'l':0, 'b':0}\n",
    ")\n",
    "\n",
    "fig.show()\n",
    "\n",
    "# Check for duplicate dates or rows\n",
    "duplicate_rows = filtered_df.duplicated()\n",
    "print(f\"Total duplicate rows: {duplicate_rows.sum()}\")\n",
    "print(filtered_df[duplicate_rows])\n",
    "\n",
    "duplicates_by_date = filtered_df.duplicated(subset='Date', keep=False)\n",
    "print(f\"Entries with duplicate dates: {duplicates_by_date.sum()}\")\n",
    "print(filtered_df[duplicates_by_date].sort_values('Date'))"
   ]
  }
 ],
 "metadata": {
  "kernelspec": {
   "display_name": "Python 3",
   "language": "python",
   "name": "python3"
  },
  "language_info": {
   "codemirror_mode": {
    "name": "ipython",
    "version": 3
   },
   "file_extension": ".py",
   "mimetype": "text/x-python",
   "name": "python",
   "nbconvert_exporter": "python",
   "pygments_lexer": "ipython3",
   "version": "3.11.3"
  }
 },
 "nbformat": 4,
 "nbformat_minor": 5
}
